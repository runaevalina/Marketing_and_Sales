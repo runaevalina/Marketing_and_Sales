{
 "cells": [
  {
   "cell_type": "markdown",
   "metadata": {},
   "source": [
    "Let's build RFM user segmentation to qualitatively evaluate the audience.\n",
    "In clustering, we will choose the following metrics: \n",
    "- R - time from the user's last purchase to the current date,\n",
    "- F - the total number of purchases from the user for the entire time,\n",
    "- M - the amount of purchases for the entire time.\n",
    "For each RFM segment,we will build the bounds of the recency metrics,frequency and monetary to interpret these clusters.\n",
    "___\n",
    "An example of such a description: RFM segment 132 (recency=1,\n",
    "frequency=3, monetary=2) has limits of recency metrics from 130 to 500 days,\n",
    "frequency from 2 to 5 orders per week, monetary from 1780 to 3560 rubles per week."
   ]
  },
  {
   "cell_type": "code",
   "execution_count": 1,
   "metadata": {},
   "outputs": [],
   "source": [
    "import pandas as pd\n",
    "from datetime import timedelta\n"
   ]
  },
  {
   "cell_type": "code",
   "execution_count": 2,
   "metadata": {},
   "outputs": [],
   "source": [
    "customers = pd.read_csv('./olist_customers_dataset.csv',encoding='Windows-1251')"
   ]
  },
  {
   "cell_type": "code",
   "execution_count": 3,
   "metadata": {},
   "outputs": [
    {
     "data": {
      "text/html": [
       "<div>\n",
       "<style scoped>\n",
       "    .dataframe tbody tr th:only-of-type {\n",
       "        vertical-align: middle;\n",
       "    }\n",
       "\n",
       "    .dataframe tbody tr th {\n",
       "        vertical-align: top;\n",
       "    }\n",
       "\n",
       "    .dataframe thead th {\n",
       "        text-align: right;\n",
       "    }\n",
       "</style>\n",
       "<table border=\"1\" class=\"dataframe\">\n",
       "  <thead>\n",
       "    <tr style=\"text-align: right;\">\n",
       "      <th></th>\n",
       "      <th>customer_zip_code_prefix</th>\n",
       "    </tr>\n",
       "  </thead>\n",
       "  <tbody>\n",
       "    <tr>\n",
       "      <th>count</th>\n",
       "      <td>99441.000000</td>\n",
       "    </tr>\n",
       "    <tr>\n",
       "      <th>mean</th>\n",
       "      <td>35137.474583</td>\n",
       "    </tr>\n",
       "    <tr>\n",
       "      <th>std</th>\n",
       "      <td>29797.938996</td>\n",
       "    </tr>\n",
       "    <tr>\n",
       "      <th>min</th>\n",
       "      <td>1003.000000</td>\n",
       "    </tr>\n",
       "    <tr>\n",
       "      <th>25%</th>\n",
       "      <td>11347.000000</td>\n",
       "    </tr>\n",
       "    <tr>\n",
       "      <th>50%</th>\n",
       "      <td>24416.000000</td>\n",
       "    </tr>\n",
       "    <tr>\n",
       "      <th>75%</th>\n",
       "      <td>58900.000000</td>\n",
       "    </tr>\n",
       "    <tr>\n",
       "      <th>max</th>\n",
       "      <td>99990.000000</td>\n",
       "    </tr>\n",
       "  </tbody>\n",
       "</table>\n",
       "</div>"
      ],
      "text/plain": [
       "       customer_zip_code_prefix\n",
       "count              99441.000000\n",
       "mean               35137.474583\n",
       "std                29797.938996\n",
       "min                 1003.000000\n",
       "25%                11347.000000\n",
       "50%                24416.000000\n",
       "75%                58900.000000\n",
       "max                99990.000000"
      ]
     },
     "execution_count": 3,
     "metadata": {},
     "output_type": "execute_result"
    }
   ],
   "source": [
    "customers.describe() # statistics"
   ]
  },
  {
   "cell_type": "code",
   "execution_count": 4,
   "metadata": {},
   "outputs": [
    {
     "name": "stdout",
     "output_type": "stream",
     "text": [
      "99,441 rows; 5 columns\n"
     ]
    }
   ],
   "source": [
    "print('{:,} rows; {:,} columns'.format(customers.shape[0], customers.shape[1])) # выведем размеры таблицы"
   ]
  },
  {
   "cell_type": "code",
   "execution_count": 5,
   "metadata": {},
   "outputs": [
    {
     "data": {
      "text/plain": [
       "customer_id                 object\n",
       "customer_unique_id          object\n",
       "customer_zip_code_prefix     int64\n",
       "customer_city               object\n",
       "customer_state              object\n",
       "dtype: object"
      ]
     },
     "execution_count": 5,
     "metadata": {},
     "output_type": "execute_result"
    }
   ],
   "source": [
    "customers.dtypes # column types"
   ]
  },
  {
   "cell_type": "code",
   "execution_count": 6,
   "metadata": {},
   "outputs": [
    {
     "data": {
      "text/plain": [
       "customer_id                 0\n",
       "customer_unique_id          0\n",
       "customer_zip_code_prefix    0\n",
       "customer_city               0\n",
       "customer_state              0\n",
       "dtype: int64"
      ]
     },
     "execution_count": 6,
     "metadata": {},
     "output_type": "execute_result"
    }
   ],
   "source": [
    "customers.isna().sum() # show the sum of empty fields in columns"
   ]
  },
  {
   "cell_type": "code",
   "execution_count": 7,
   "metadata": {},
   "outputs": [
    {
     "data": {
      "text/html": [
       "<div>\n",
       "<style scoped>\n",
       "    .dataframe tbody tr th:only-of-type {\n",
       "        vertical-align: middle;\n",
       "    }\n",
       "\n",
       "    .dataframe tbody tr th {\n",
       "        vertical-align: top;\n",
       "    }\n",
       "\n",
       "    .dataframe thead th {\n",
       "        text-align: right;\n",
       "    }\n",
       "</style>\n",
       "<table border=\"1\" class=\"dataframe\">\n",
       "  <thead>\n",
       "    <tr style=\"text-align: right;\">\n",
       "      <th></th>\n",
       "      <th>customer_id</th>\n",
       "      <th>customer_unique_id</th>\n",
       "      <th>customer_zip_code_prefix</th>\n",
       "      <th>customer_city</th>\n",
       "      <th>customer_state</th>\n",
       "    </tr>\n",
       "  </thead>\n",
       "  <tbody>\n",
       "    <tr>\n",
       "      <th>0</th>\n",
       "      <td>06b8999e2fba1a1fbc88172c00ba8bc7</td>\n",
       "      <td>861eff4711a542e4b93843c6dd7febb0</td>\n",
       "      <td>14409</td>\n",
       "      <td>franca</td>\n",
       "      <td>SP</td>\n",
       "    </tr>\n",
       "    <tr>\n",
       "      <th>1</th>\n",
       "      <td>18955e83d337fd6b2def6b18a428ac77</td>\n",
       "      <td>290c77bc529b7ac935b93aa66c333dc3</td>\n",
       "      <td>9790</td>\n",
       "      <td>sao bernardo do campo</td>\n",
       "      <td>SP</td>\n",
       "    </tr>\n",
       "    <tr>\n",
       "      <th>2</th>\n",
       "      <td>4e7b3e00288586ebd08712fdd0374a03</td>\n",
       "      <td>060e732b5b29e8181a18229c7b0b2b5e</td>\n",
       "      <td>1151</td>\n",
       "      <td>sao paulo</td>\n",
       "      <td>SP</td>\n",
       "    </tr>\n",
       "    <tr>\n",
       "      <th>3</th>\n",
       "      <td>b2b6027bc5c5109e529d4dc6358b12c3</td>\n",
       "      <td>259dac757896d24d7702b9acbbff3f3c</td>\n",
       "      <td>8775</td>\n",
       "      <td>mogi das cruzes</td>\n",
       "      <td>SP</td>\n",
       "    </tr>\n",
       "    <tr>\n",
       "      <th>4</th>\n",
       "      <td>4f2d8ab171c80ec8364f7c12e35b23ad</td>\n",
       "      <td>345ecd01c38d18a9036ed96c73b8d066</td>\n",
       "      <td>13056</td>\n",
       "      <td>campinas</td>\n",
       "      <td>SP</td>\n",
       "    </tr>\n",
       "  </tbody>\n",
       "</table>\n",
       "</div>"
      ],
      "text/plain": [
       "                        customer_id                customer_unique_id  \\\n",
       "0  06b8999e2fba1a1fbc88172c00ba8bc7  861eff4711a542e4b93843c6dd7febb0   \n",
       "1  18955e83d337fd6b2def6b18a428ac77  290c77bc529b7ac935b93aa66c333dc3   \n",
       "2  4e7b3e00288586ebd08712fdd0374a03  060e732b5b29e8181a18229c7b0b2b5e   \n",
       "3  b2b6027bc5c5109e529d4dc6358b12c3  259dac757896d24d7702b9acbbff3f3c   \n",
       "4  4f2d8ab171c80ec8364f7c12e35b23ad  345ecd01c38d18a9036ed96c73b8d066   \n",
       "\n",
       "   customer_zip_code_prefix          customer_city customer_state  \n",
       "0                     14409                 franca             SP  \n",
       "1                      9790  sao bernardo do campo             SP  \n",
       "2                      1151              sao paulo             SP  \n",
       "3                      8775        mogi das cruzes             SP  \n",
       "4                     13056               campinas             SP  "
      ]
     },
     "execution_count": 7,
     "metadata": {},
     "output_type": "execute_result"
    }
   ],
   "source": [
    "customers.head() # show first 5 rows"
   ]
  },
  {
   "cell_type": "code",
   "execution_count": 8,
   "metadata": {},
   "outputs": [
    {
     "data": {
      "text/plain": [
       "96096"
      ]
     },
     "execution_count": 8,
     "metadata": {},
     "output_type": "execute_result"
    }
   ],
   "source": [
    "customers.customer_unique_id.nunique() # the number of unique customer_unique_id"
   ]
  },
  {
   "cell_type": "markdown",
   "metadata": {},
   "source": [
    "It seems that most of the customers made only one order."
   ]
  },
  {
   "cell_type": "code",
   "execution_count": 9,
   "metadata": {},
   "outputs": [
    {
     "data": {
      "text/plain": [
       "customer_id                 96096\n",
       "customer_unique_id          96096\n",
       "customer_zip_code_prefix    96096\n",
       "customer_city               96096\n",
       "customer_state              96096\n",
       "dtype: int64"
      ]
     },
     "execution_count": 9,
     "metadata": {},
     "output_type": "execute_result"
    }
   ],
   "source": [
    "customers.groupby('customer_unique_id').nunique().count() #Count number of distinct elements - customer_unique_id"
   ]
  },
  {
   "cell_type": "code",
   "execution_count": 10,
   "metadata": {},
   "outputs": [
    {
     "data": {
      "text/plain": [
       "customer_id                 99441\n",
       "customer_unique_id          96096\n",
       "customer_zip_code_prefix    14994\n",
       "customer_city                4119\n",
       "customer_state                 27\n",
       "dtype: int64"
      ]
     },
     "execution_count": 10,
     "metadata": {},
     "output_type": "execute_result"
    }
   ],
   "source": [
    "customers.nunique() "
   ]
  },
  {
   "cell_type": "code",
   "execution_count": 11,
   "metadata": {},
   "outputs": [
    {
     "data": {
      "text/html": [
       "<div>\n",
       "<style scoped>\n",
       "    .dataframe tbody tr th:only-of-type {\n",
       "        vertical-align: middle;\n",
       "    }\n",
       "\n",
       "    .dataframe tbody tr th {\n",
       "        vertical-align: top;\n",
       "    }\n",
       "\n",
       "    .dataframe thead th {\n",
       "        text-align: right;\n",
       "    }\n",
       "</style>\n",
       "<table border=\"1\" class=\"dataframe\">\n",
       "  <thead>\n",
       "    <tr style=\"text-align: right;\">\n",
       "      <th></th>\n",
       "      <th>customer_id</th>\n",
       "    </tr>\n",
       "    <tr>\n",
       "      <th>customer_unique_id</th>\n",
       "      <th></th>\n",
       "    </tr>\n",
       "  </thead>\n",
       "  <tbody>\n",
       "    <tr>\n",
       "      <th>8d50f5eadf50201ccdcedfb9e2ac8455</th>\n",
       "      <td>17</td>\n",
       "    </tr>\n",
       "  </tbody>\n",
       "</table>\n",
       "</div>"
      ],
      "text/plain": [
       "                                  customer_id\n",
       "customer_unique_id                           \n",
       "8d50f5eadf50201ccdcedfb9e2ac8455           17"
      ]
     },
     "execution_count": 11,
     "metadata": {},
     "output_type": "execute_result"
    }
   ],
   "source": [
    "customers.groupby(['customer_unique_id']).agg({'customer_id':'count'})\\\n",
    ".query('customer_id > 10') # show the customer_unique_id who has > 10 orders"
   ]
  },
  {
   "cell_type": "code",
   "execution_count": 4,
   "metadata": {},
   "outputs": [],
   "source": [
    "orders = pd.read_csv('./olist_orders_dataset.csv',encoding='Windows-1251', parse_dates=['order_purchase_timestamp', 'order_approved_at', 'order_delivered_carrier_date', 'order_delivered_customer_date', 'order_estimated_delivery_date'])"
   ]
  },
  {
   "cell_type": "code",
   "execution_count": 5,
   "metadata": {},
   "outputs": [
    {
     "name": "stdout",
     "output_type": "stream",
     "text": [
      "99,441 rows; 8 columns\n"
     ]
    }
   ],
   "source": [
    "print('{:,} rows; {:,} columns'.format(orders.shape[0], orders.shape[1])) # выведем размеры таблицы"
   ]
  },
  {
   "cell_type": "code",
   "execution_count": 14,
   "metadata": {},
   "outputs": [
    {
     "data": {
      "text/plain": [
       "order_id                         99441\n",
       "customer_id                      99441\n",
       "order_status                         8\n",
       "order_purchase_timestamp         98875\n",
       "order_approved_at                90733\n",
       "order_delivered_carrier_date     81018\n",
       "order_delivered_customer_date    95664\n",
       "order_estimated_delivery_date      459\n",
       "dtype: int64"
      ]
     },
     "execution_count": 14,
     "metadata": {},
     "output_type": "execute_result"
    }
   ],
   "source": [
    "orders.nunique()"
   ]
  },
  {
   "cell_type": "code",
   "execution_count": 15,
   "metadata": {},
   "outputs": [
    {
     "data": {
      "text/plain": [
       "order_id                                 object\n",
       "customer_id                              object\n",
       "order_status                             object\n",
       "order_purchase_timestamp         datetime64[ns]\n",
       "order_approved_at                datetime64[ns]\n",
       "order_delivered_carrier_date     datetime64[ns]\n",
       "order_delivered_customer_date    datetime64[ns]\n",
       "order_estimated_delivery_date    datetime64[ns]\n",
       "dtype: object"
      ]
     },
     "execution_count": 15,
     "metadata": {},
     "output_type": "execute_result"
    }
   ],
   "source": [
    "orders.dtypes"
   ]
  },
  {
   "cell_type": "code",
   "execution_count": 16,
   "metadata": {},
   "outputs": [
    {
     "data": {
      "text/html": [
       "<div>\n",
       "<style scoped>\n",
       "    .dataframe tbody tr th:only-of-type {\n",
       "        vertical-align: middle;\n",
       "    }\n",
       "\n",
       "    .dataframe tbody tr th {\n",
       "        vertical-align: top;\n",
       "    }\n",
       "\n",
       "    .dataframe thead th {\n",
       "        text-align: right;\n",
       "    }\n",
       "</style>\n",
       "<table border=\"1\" class=\"dataframe\">\n",
       "  <thead>\n",
       "    <tr style=\"text-align: right;\">\n",
       "      <th></th>\n",
       "      <th>order_id</th>\n",
       "      <th>customer_id</th>\n",
       "      <th>order_status</th>\n",
       "      <th>order_purchase_timestamp</th>\n",
       "      <th>order_approved_at</th>\n",
       "      <th>order_delivered_carrier_date</th>\n",
       "      <th>order_delivered_customer_date</th>\n",
       "      <th>order_estimated_delivery_date</th>\n",
       "    </tr>\n",
       "  </thead>\n",
       "  <tbody>\n",
       "    <tr>\n",
       "      <th>0</th>\n",
       "      <td>e481f51cbdc54678b7cc49136f2d6af7</td>\n",
       "      <td>9ef432eb6251297304e76186b10a928d</td>\n",
       "      <td>delivered</td>\n",
       "      <td>2017-10-02 10:56:33</td>\n",
       "      <td>2017-10-02 11:07:15</td>\n",
       "      <td>2017-10-04 19:55:00</td>\n",
       "      <td>2017-10-10 21:25:13</td>\n",
       "      <td>2017-10-18</td>\n",
       "    </tr>\n",
       "    <tr>\n",
       "      <th>1</th>\n",
       "      <td>53cdb2fc8bc7dce0b6741e2150273451</td>\n",
       "      <td>b0830fb4747a6c6d20dea0b8c802d7ef</td>\n",
       "      <td>delivered</td>\n",
       "      <td>2018-07-24 20:41:37</td>\n",
       "      <td>2018-07-26 03:24:27</td>\n",
       "      <td>2018-07-26 14:31:00</td>\n",
       "      <td>2018-08-07 15:27:45</td>\n",
       "      <td>2018-08-13</td>\n",
       "    </tr>\n",
       "    <tr>\n",
       "      <th>2</th>\n",
       "      <td>47770eb9100c2d0c44946d9cf07ec65d</td>\n",
       "      <td>41ce2a54c0b03bf3443c3d931a367089</td>\n",
       "      <td>delivered</td>\n",
       "      <td>2018-08-08 08:38:49</td>\n",
       "      <td>2018-08-08 08:55:23</td>\n",
       "      <td>2018-08-08 13:50:00</td>\n",
       "      <td>2018-08-17 18:06:29</td>\n",
       "      <td>2018-09-04</td>\n",
       "    </tr>\n",
       "    <tr>\n",
       "      <th>3</th>\n",
       "      <td>949d5b44dbf5de918fe9c16f97b45f8a</td>\n",
       "      <td>f88197465ea7920adcdbec7375364d82</td>\n",
       "      <td>delivered</td>\n",
       "      <td>2017-11-18 19:28:06</td>\n",
       "      <td>2017-11-18 19:45:59</td>\n",
       "      <td>2017-11-22 13:39:59</td>\n",
       "      <td>2017-12-02 00:28:42</td>\n",
       "      <td>2017-12-15</td>\n",
       "    </tr>\n",
       "    <tr>\n",
       "      <th>4</th>\n",
       "      <td>ad21c59c0840e6cb83a9ceb5573f8159</td>\n",
       "      <td>8ab97904e6daea8866dbdbc4fb7aad2c</td>\n",
       "      <td>delivered</td>\n",
       "      <td>2018-02-13 21:18:39</td>\n",
       "      <td>2018-02-13 22:20:29</td>\n",
       "      <td>2018-02-14 19:46:34</td>\n",
       "      <td>2018-02-16 18:17:02</td>\n",
       "      <td>2018-02-26</td>\n",
       "    </tr>\n",
       "  </tbody>\n",
       "</table>\n",
       "</div>"
      ],
      "text/plain": [
       "                           order_id                       customer_id  \\\n",
       "0  e481f51cbdc54678b7cc49136f2d6af7  9ef432eb6251297304e76186b10a928d   \n",
       "1  53cdb2fc8bc7dce0b6741e2150273451  b0830fb4747a6c6d20dea0b8c802d7ef   \n",
       "2  47770eb9100c2d0c44946d9cf07ec65d  41ce2a54c0b03bf3443c3d931a367089   \n",
       "3  949d5b44dbf5de918fe9c16f97b45f8a  f88197465ea7920adcdbec7375364d82   \n",
       "4  ad21c59c0840e6cb83a9ceb5573f8159  8ab97904e6daea8866dbdbc4fb7aad2c   \n",
       "\n",
       "  order_status order_purchase_timestamp   order_approved_at  \\\n",
       "0    delivered      2017-10-02 10:56:33 2017-10-02 11:07:15   \n",
       "1    delivered      2018-07-24 20:41:37 2018-07-26 03:24:27   \n",
       "2    delivered      2018-08-08 08:38:49 2018-08-08 08:55:23   \n",
       "3    delivered      2017-11-18 19:28:06 2017-11-18 19:45:59   \n",
       "4    delivered      2018-02-13 21:18:39 2018-02-13 22:20:29   \n",
       "\n",
       "  order_delivered_carrier_date order_delivered_customer_date  \\\n",
       "0          2017-10-04 19:55:00           2017-10-10 21:25:13   \n",
       "1          2018-07-26 14:31:00           2018-08-07 15:27:45   \n",
       "2          2018-08-08 13:50:00           2018-08-17 18:06:29   \n",
       "3          2017-11-22 13:39:59           2017-12-02 00:28:42   \n",
       "4          2018-02-14 19:46:34           2018-02-16 18:17:02   \n",
       "\n",
       "  order_estimated_delivery_date  \n",
       "0                    2017-10-18  \n",
       "1                    2018-08-13  \n",
       "2                    2018-09-04  \n",
       "3                    2017-12-15  \n",
       "4                    2018-02-26  "
      ]
     },
     "execution_count": 16,
     "metadata": {},
     "output_type": "execute_result"
    }
   ],
   "source": [
    "orders.head()"
   ]
  },
  {
   "cell_type": "code",
   "execution_count": 6,
   "metadata": {},
   "outputs": [],
   "source": [
    "items = pd.read_csv('./olist_order_items_dataset.csv',encoding='Windows-1251', parse_dates=['shipping_limit_date'])"
   ]
  },
  {
   "cell_type": "code",
   "execution_count": 20,
   "metadata": {},
   "outputs": [
    {
     "data": {
      "text/plain": [
       "order_id                       object\n",
       "order_item_id                   int64\n",
       "product_id                     object\n",
       "seller_id                      object\n",
       "shipping_limit_date    datetime64[ns]\n",
       "price                         float64\n",
       "freight_value                 float64\n",
       "dtype: object"
      ]
     },
     "execution_count": 20,
     "metadata": {},
     "output_type": "execute_result"
    }
   ],
   "source": [
    "items.dtypes"
   ]
  },
  {
   "cell_type": "code",
   "execution_count": 21,
   "metadata": {},
   "outputs": [
    {
     "data": {
      "text/plain": [
       "(112650, 7)"
      ]
     },
     "execution_count": 21,
     "metadata": {},
     "output_type": "execute_result"
    }
   ],
   "source": [
    "items.shape"
   ]
  },
  {
   "cell_type": "code",
   "execution_count": 22,
   "metadata": {},
   "outputs": [
    {
     "data": {
      "text/plain": [
       "order_id               98666\n",
       "order_item_id             21\n",
       "product_id             32951\n",
       "seller_id               3095\n",
       "shipping_limit_date    93318\n",
       "price                   5968\n",
       "freight_value           6999\n",
       "dtype: int64"
      ]
     },
     "execution_count": 22,
     "metadata": {},
     "output_type": "execute_result"
    }
   ],
   "source": [
    "items.nunique()"
   ]
  },
  {
   "cell_type": "code",
   "execution_count": 23,
   "metadata": {},
   "outputs": [
    {
     "data": {
      "text/html": [
       "<div>\n",
       "<style scoped>\n",
       "    .dataframe tbody tr th:only-of-type {\n",
       "        vertical-align: middle;\n",
       "    }\n",
       "\n",
       "    .dataframe tbody tr th {\n",
       "        vertical-align: top;\n",
       "    }\n",
       "\n",
       "    .dataframe thead th {\n",
       "        text-align: right;\n",
       "    }\n",
       "</style>\n",
       "<table border=\"1\" class=\"dataframe\">\n",
       "  <thead>\n",
       "    <tr style=\"text-align: right;\">\n",
       "      <th></th>\n",
       "      <th>order_id</th>\n",
       "      <th>order_item_id</th>\n",
       "      <th>product_id</th>\n",
       "      <th>seller_id</th>\n",
       "      <th>shipping_limit_date</th>\n",
       "      <th>price</th>\n",
       "      <th>freight_value</th>\n",
       "    </tr>\n",
       "  </thead>\n",
       "  <tbody>\n",
       "    <tr>\n",
       "      <th>0</th>\n",
       "      <td>00010242fe8c5a6d1ba2dd792cb16214</td>\n",
       "      <td>1</td>\n",
       "      <td>4244733e06e7ecb4970a6e2683c13e61</td>\n",
       "      <td>48436dade18ac8b2bce089ec2a041202</td>\n",
       "      <td>2017-09-19 09:45:35</td>\n",
       "      <td>58.90</td>\n",
       "      <td>13.29</td>\n",
       "    </tr>\n",
       "    <tr>\n",
       "      <th>1</th>\n",
       "      <td>00018f77f2f0320c557190d7a144bdd3</td>\n",
       "      <td>1</td>\n",
       "      <td>e5f2d52b802189ee658865ca93d83a8f</td>\n",
       "      <td>dd7ddc04e1b6c2c614352b383efe2d36</td>\n",
       "      <td>2017-05-03 11:05:13</td>\n",
       "      <td>239.90</td>\n",
       "      <td>19.93</td>\n",
       "    </tr>\n",
       "    <tr>\n",
       "      <th>2</th>\n",
       "      <td>000229ec398224ef6ca0657da4fc703e</td>\n",
       "      <td>1</td>\n",
       "      <td>c777355d18b72b67abbeef9df44fd0fd</td>\n",
       "      <td>5b51032eddd242adc84c38acab88f23d</td>\n",
       "      <td>2018-01-18 14:48:30</td>\n",
       "      <td>199.00</td>\n",
       "      <td>17.87</td>\n",
       "    </tr>\n",
       "    <tr>\n",
       "      <th>3</th>\n",
       "      <td>00024acbcdf0a6daa1e931b038114c75</td>\n",
       "      <td>1</td>\n",
       "      <td>7634da152a4610f1595efa32f14722fc</td>\n",
       "      <td>9d7a1d34a5052409006425275ba1c2b4</td>\n",
       "      <td>2018-08-15 10:10:18</td>\n",
       "      <td>12.99</td>\n",
       "      <td>12.79</td>\n",
       "    </tr>\n",
       "    <tr>\n",
       "      <th>4</th>\n",
       "      <td>00042b26cf59d7ce69dfabb4e55b4fd9</td>\n",
       "      <td>1</td>\n",
       "      <td>ac6c3623068f30de03045865e4e10089</td>\n",
       "      <td>df560393f3a51e74553ab94004ba5c87</td>\n",
       "      <td>2017-02-13 13:57:51</td>\n",
       "      <td>199.90</td>\n",
       "      <td>18.14</td>\n",
       "    </tr>\n",
       "  </tbody>\n",
       "</table>\n",
       "</div>"
      ],
      "text/plain": [
       "                           order_id  order_item_id  \\\n",
       "0  00010242fe8c5a6d1ba2dd792cb16214              1   \n",
       "1  00018f77f2f0320c557190d7a144bdd3              1   \n",
       "2  000229ec398224ef6ca0657da4fc703e              1   \n",
       "3  00024acbcdf0a6daa1e931b038114c75              1   \n",
       "4  00042b26cf59d7ce69dfabb4e55b4fd9              1   \n",
       "\n",
       "                         product_id                         seller_id  \\\n",
       "0  4244733e06e7ecb4970a6e2683c13e61  48436dade18ac8b2bce089ec2a041202   \n",
       "1  e5f2d52b802189ee658865ca93d83a8f  dd7ddc04e1b6c2c614352b383efe2d36   \n",
       "2  c777355d18b72b67abbeef9df44fd0fd  5b51032eddd242adc84c38acab88f23d   \n",
       "3  7634da152a4610f1595efa32f14722fc  9d7a1d34a5052409006425275ba1c2b4   \n",
       "4  ac6c3623068f30de03045865e4e10089  df560393f3a51e74553ab94004ba5c87   \n",
       "\n",
       "  shipping_limit_date   price  freight_value  \n",
       "0 2017-09-19 09:45:35   58.90          13.29  \n",
       "1 2017-05-03 11:05:13  239.90          19.93  \n",
       "2 2018-01-18 14:48:30  199.00          17.87  \n",
       "3 2018-08-15 10:10:18   12.99          12.79  \n",
       "4 2017-02-13 13:57:51  199.90          18.14  "
      ]
     },
     "execution_count": 23,
     "metadata": {},
     "output_type": "execute_result"
    }
   ],
   "source": [
    "items.head()"
   ]
  },
  {
   "cell_type": "code",
   "execution_count": 24,
   "metadata": {},
   "outputs": [
    {
     "data": {
      "text/html": [
       "<div>\n",
       "<style scoped>\n",
       "    .dataframe tbody tr th:only-of-type {\n",
       "        vertical-align: middle;\n",
       "    }\n",
       "\n",
       "    .dataframe tbody tr th {\n",
       "        vertical-align: top;\n",
       "    }\n",
       "\n",
       "    .dataframe thead th {\n",
       "        text-align: right;\n",
       "    }\n",
       "</style>\n",
       "<table border=\"1\" class=\"dataframe\">\n",
       "  <thead>\n",
       "    <tr style=\"text-align: right;\">\n",
       "      <th></th>\n",
       "      <th>order_id</th>\n",
       "      <th>order_item_id</th>\n",
       "      <th>product_id</th>\n",
       "      <th>seller_id</th>\n",
       "      <th>shipping_limit_date</th>\n",
       "      <th>price</th>\n",
       "      <th>freight_value</th>\n",
       "    </tr>\n",
       "  </thead>\n",
       "  <tbody>\n",
       "    <tr>\n",
       "      <th>0</th>\n",
       "      <td>00010242fe8c5a6d1ba2dd792cb16214</td>\n",
       "      <td>1</td>\n",
       "      <td>4244733e06e7ecb4970a6e2683c13e61</td>\n",
       "      <td>48436dade18ac8b2bce089ec2a041202</td>\n",
       "      <td>2017-09-19 09:45:35</td>\n",
       "      <td>58.90</td>\n",
       "      <td>13.29</td>\n",
       "    </tr>\n",
       "    <tr>\n",
       "      <th>1</th>\n",
       "      <td>00018f77f2f0320c557190d7a144bdd3</td>\n",
       "      <td>1</td>\n",
       "      <td>e5f2d52b802189ee658865ca93d83a8f</td>\n",
       "      <td>dd7ddc04e1b6c2c614352b383efe2d36</td>\n",
       "      <td>2017-05-03 11:05:13</td>\n",
       "      <td>239.90</td>\n",
       "      <td>19.93</td>\n",
       "    </tr>\n",
       "    <tr>\n",
       "      <th>2</th>\n",
       "      <td>000229ec398224ef6ca0657da4fc703e</td>\n",
       "      <td>1</td>\n",
       "      <td>c777355d18b72b67abbeef9df44fd0fd</td>\n",
       "      <td>5b51032eddd242adc84c38acab88f23d</td>\n",
       "      <td>2018-01-18 14:48:30</td>\n",
       "      <td>199.00</td>\n",
       "      <td>17.87</td>\n",
       "    </tr>\n",
       "    <tr>\n",
       "      <th>3</th>\n",
       "      <td>00024acbcdf0a6daa1e931b038114c75</td>\n",
       "      <td>1</td>\n",
       "      <td>7634da152a4610f1595efa32f14722fc</td>\n",
       "      <td>9d7a1d34a5052409006425275ba1c2b4</td>\n",
       "      <td>2018-08-15 10:10:18</td>\n",
       "      <td>12.99</td>\n",
       "      <td>12.79</td>\n",
       "    </tr>\n",
       "    <tr>\n",
       "      <th>4</th>\n",
       "      <td>00042b26cf59d7ce69dfabb4e55b4fd9</td>\n",
       "      <td>1</td>\n",
       "      <td>ac6c3623068f30de03045865e4e10089</td>\n",
       "      <td>df560393f3a51e74553ab94004ba5c87</td>\n",
       "      <td>2017-02-13 13:57:51</td>\n",
       "      <td>199.90</td>\n",
       "      <td>18.14</td>\n",
       "    </tr>\n",
       "    <tr>\n",
       "      <th>...</th>\n",
       "      <td>...</td>\n",
       "      <td>...</td>\n",
       "      <td>...</td>\n",
       "      <td>...</td>\n",
       "      <td>...</td>\n",
       "      <td>...</td>\n",
       "      <td>...</td>\n",
       "    </tr>\n",
       "    <tr>\n",
       "      <th>112645</th>\n",
       "      <td>fffc94f6ce00a00581880bf54a75a037</td>\n",
       "      <td>1</td>\n",
       "      <td>4aa6014eceb682077f9dc4bffebc05b0</td>\n",
       "      <td>b8bc237ba3788b23da09c0f1f3a3288c</td>\n",
       "      <td>2018-05-02 04:11:01</td>\n",
       "      <td>299.99</td>\n",
       "      <td>43.41</td>\n",
       "    </tr>\n",
       "    <tr>\n",
       "      <th>112646</th>\n",
       "      <td>fffcd46ef2263f404302a634eb57f7eb</td>\n",
       "      <td>1</td>\n",
       "      <td>32e07fd915822b0765e448c4dd74c828</td>\n",
       "      <td>f3c38ab652836d21de61fb8314b69182</td>\n",
       "      <td>2018-07-20 04:31:48</td>\n",
       "      <td>350.00</td>\n",
       "      <td>36.53</td>\n",
       "    </tr>\n",
       "    <tr>\n",
       "      <th>112647</th>\n",
       "      <td>fffce4705a9662cd70adb13d4a31832d</td>\n",
       "      <td>1</td>\n",
       "      <td>72a30483855e2eafc67aee5dc2560482</td>\n",
       "      <td>c3cfdc648177fdbbbb35635a37472c53</td>\n",
       "      <td>2017-10-30 17:14:25</td>\n",
       "      <td>99.90</td>\n",
       "      <td>16.95</td>\n",
       "    </tr>\n",
       "    <tr>\n",
       "      <th>112648</th>\n",
       "      <td>fffe18544ffabc95dfada21779c9644f</td>\n",
       "      <td>1</td>\n",
       "      <td>9c422a519119dcad7575db5af1ba540e</td>\n",
       "      <td>2b3e4a2a3ea8e01938cabda2a3e5cc79</td>\n",
       "      <td>2017-08-21 00:04:32</td>\n",
       "      <td>55.99</td>\n",
       "      <td>8.72</td>\n",
       "    </tr>\n",
       "    <tr>\n",
       "      <th>112649</th>\n",
       "      <td>fffe41c64501cc87c801fd61db3f6244</td>\n",
       "      <td>1</td>\n",
       "      <td>350688d9dc1e75ff97be326363655e01</td>\n",
       "      <td>f7ccf836d21b2fb1de37564105216cc1</td>\n",
       "      <td>2018-06-12 17:10:13</td>\n",
       "      <td>43.00</td>\n",
       "      <td>12.79</td>\n",
       "    </tr>\n",
       "  </tbody>\n",
       "</table>\n",
       "<p>112650 rows × 7 columns</p>\n",
       "</div>"
      ],
      "text/plain": [
       "                                order_id  order_item_id  \\\n",
       "0       00010242fe8c5a6d1ba2dd792cb16214              1   \n",
       "1       00018f77f2f0320c557190d7a144bdd3              1   \n",
       "2       000229ec398224ef6ca0657da4fc703e              1   \n",
       "3       00024acbcdf0a6daa1e931b038114c75              1   \n",
       "4       00042b26cf59d7ce69dfabb4e55b4fd9              1   \n",
       "...                                  ...            ...   \n",
       "112645  fffc94f6ce00a00581880bf54a75a037              1   \n",
       "112646  fffcd46ef2263f404302a634eb57f7eb              1   \n",
       "112647  fffce4705a9662cd70adb13d4a31832d              1   \n",
       "112648  fffe18544ffabc95dfada21779c9644f              1   \n",
       "112649  fffe41c64501cc87c801fd61db3f6244              1   \n",
       "\n",
       "                              product_id                         seller_id  \\\n",
       "0       4244733e06e7ecb4970a6e2683c13e61  48436dade18ac8b2bce089ec2a041202   \n",
       "1       e5f2d52b802189ee658865ca93d83a8f  dd7ddc04e1b6c2c614352b383efe2d36   \n",
       "2       c777355d18b72b67abbeef9df44fd0fd  5b51032eddd242adc84c38acab88f23d   \n",
       "3       7634da152a4610f1595efa32f14722fc  9d7a1d34a5052409006425275ba1c2b4   \n",
       "4       ac6c3623068f30de03045865e4e10089  df560393f3a51e74553ab94004ba5c87   \n",
       "...                                  ...                               ...   \n",
       "112645  4aa6014eceb682077f9dc4bffebc05b0  b8bc237ba3788b23da09c0f1f3a3288c   \n",
       "112646  32e07fd915822b0765e448c4dd74c828  f3c38ab652836d21de61fb8314b69182   \n",
       "112647  72a30483855e2eafc67aee5dc2560482  c3cfdc648177fdbbbb35635a37472c53   \n",
       "112648  9c422a519119dcad7575db5af1ba540e  2b3e4a2a3ea8e01938cabda2a3e5cc79   \n",
       "112649  350688d9dc1e75ff97be326363655e01  f7ccf836d21b2fb1de37564105216cc1   \n",
       "\n",
       "       shipping_limit_date   price  freight_value  \n",
       "0      2017-09-19 09:45:35   58.90          13.29  \n",
       "1      2017-05-03 11:05:13  239.90          19.93  \n",
       "2      2018-01-18 14:48:30  199.00          17.87  \n",
       "3      2018-08-15 10:10:18   12.99          12.79  \n",
       "4      2017-02-13 13:57:51  199.90          18.14  \n",
       "...                    ...     ...            ...  \n",
       "112645 2018-05-02 04:11:01  299.99          43.41  \n",
       "112646 2018-07-20 04:31:48  350.00          36.53  \n",
       "112647 2017-10-30 17:14:25   99.90          16.95  \n",
       "112648 2017-08-21 00:04:32   55.99           8.72  \n",
       "112649 2018-06-12 17:10:13   43.00          12.79  \n",
       "\n",
       "[112650 rows x 7 columns]"
      ]
     },
     "execution_count": 24,
     "metadata": {},
     "output_type": "execute_result"
    }
   ],
   "source": [
    "items.dropna() # delete emoty fields"
   ]
  },
  {
   "cell_type": "code",
   "execution_count": 25,
   "metadata": {},
   "outputs": [
    {
     "data": {
      "text/plain": [
       "(112650, 7)"
      ]
     },
     "execution_count": 25,
     "metadata": {},
     "output_type": "execute_result"
    }
   ],
   "source": [
    "items.shape"
   ]
  },
  {
   "cell_type": "markdown",
   "metadata": {},
   "source": [
    " Let's merge (customers + orders)"
   ]
  },
  {
   "cell_type": "code",
   "execution_count": 26,
   "metadata": {},
   "outputs": [],
   "source": [
    "customers_orders = customers.merge(orders, on = 'customer_id', how = 'left')"
   ]
  },
  {
   "cell_type": "code",
   "execution_count": 27,
   "metadata": {},
   "outputs": [
    {
     "data": {
      "text/plain": [
       "(99441, 12)"
      ]
     },
     "execution_count": 27,
     "metadata": {},
     "output_type": "execute_result"
    }
   ],
   "source": [
    "customers_orders.shape"
   ]
  },
  {
   "cell_type": "code",
   "execution_count": 28,
   "metadata": {},
   "outputs": [
    {
     "data": {
      "text/html": [
       "<div>\n",
       "<style scoped>\n",
       "    .dataframe tbody tr th:only-of-type {\n",
       "        vertical-align: middle;\n",
       "    }\n",
       "\n",
       "    .dataframe tbody tr th {\n",
       "        vertical-align: top;\n",
       "    }\n",
       "\n",
       "    .dataframe thead th {\n",
       "        text-align: right;\n",
       "    }\n",
       "</style>\n",
       "<table border=\"1\" class=\"dataframe\">\n",
       "  <thead>\n",
       "    <tr style=\"text-align: right;\">\n",
       "      <th></th>\n",
       "      <th>customer_id</th>\n",
       "      <th>customer_unique_id</th>\n",
       "      <th>customer_zip_code_prefix</th>\n",
       "      <th>customer_city</th>\n",
       "      <th>customer_state</th>\n",
       "      <th>order_id</th>\n",
       "      <th>order_status</th>\n",
       "      <th>order_purchase_timestamp</th>\n",
       "      <th>order_approved_at</th>\n",
       "      <th>order_delivered_carrier_date</th>\n",
       "      <th>order_delivered_customer_date</th>\n",
       "      <th>order_estimated_delivery_date</th>\n",
       "    </tr>\n",
       "  </thead>\n",
       "  <tbody>\n",
       "    <tr>\n",
       "      <th>0</th>\n",
       "      <td>06b8999e2fba1a1fbc88172c00ba8bc7</td>\n",
       "      <td>861eff4711a542e4b93843c6dd7febb0</td>\n",
       "      <td>14409</td>\n",
       "      <td>franca</td>\n",
       "      <td>SP</td>\n",
       "      <td>00e7ee1b050b8499577073aeb2a297a1</td>\n",
       "      <td>delivered</td>\n",
       "      <td>2017-05-16 15:05:35</td>\n",
       "      <td>2017-05-16 15:22:12</td>\n",
       "      <td>2017-05-23 10:47:57</td>\n",
       "      <td>2017-05-25 10:35:35</td>\n",
       "      <td>2017-06-05</td>\n",
       "    </tr>\n",
       "    <tr>\n",
       "      <th>1</th>\n",
       "      <td>18955e83d337fd6b2def6b18a428ac77</td>\n",
       "      <td>290c77bc529b7ac935b93aa66c333dc3</td>\n",
       "      <td>9790</td>\n",
       "      <td>sao bernardo do campo</td>\n",
       "      <td>SP</td>\n",
       "      <td>29150127e6685892b6eab3eec79f59c7</td>\n",
       "      <td>delivered</td>\n",
       "      <td>2018-01-12 20:48:24</td>\n",
       "      <td>2018-01-12 20:58:32</td>\n",
       "      <td>2018-01-15 17:14:59</td>\n",
       "      <td>2018-01-29 12:41:19</td>\n",
       "      <td>2018-02-06</td>\n",
       "    </tr>\n",
       "    <tr>\n",
       "      <th>2</th>\n",
       "      <td>4e7b3e00288586ebd08712fdd0374a03</td>\n",
       "      <td>060e732b5b29e8181a18229c7b0b2b5e</td>\n",
       "      <td>1151</td>\n",
       "      <td>sao paulo</td>\n",
       "      <td>SP</td>\n",
       "      <td>b2059ed67ce144a36e2aa97d2c9e9ad2</td>\n",
       "      <td>delivered</td>\n",
       "      <td>2018-05-19 16:07:45</td>\n",
       "      <td>2018-05-20 16:19:10</td>\n",
       "      <td>2018-06-11 14:31:00</td>\n",
       "      <td>2018-06-14 17:58:51</td>\n",
       "      <td>2018-06-13</td>\n",
       "    </tr>\n",
       "    <tr>\n",
       "      <th>3</th>\n",
       "      <td>b2b6027bc5c5109e529d4dc6358b12c3</td>\n",
       "      <td>259dac757896d24d7702b9acbbff3f3c</td>\n",
       "      <td>8775</td>\n",
       "      <td>mogi das cruzes</td>\n",
       "      <td>SP</td>\n",
       "      <td>951670f92359f4fe4a63112aa7306eba</td>\n",
       "      <td>delivered</td>\n",
       "      <td>2018-03-13 16:06:38</td>\n",
       "      <td>2018-03-13 17:29:19</td>\n",
       "      <td>2018-03-27 23:22:42</td>\n",
       "      <td>2018-03-28 16:04:25</td>\n",
       "      <td>2018-04-10</td>\n",
       "    </tr>\n",
       "    <tr>\n",
       "      <th>4</th>\n",
       "      <td>4f2d8ab171c80ec8364f7c12e35b23ad</td>\n",
       "      <td>345ecd01c38d18a9036ed96c73b8d066</td>\n",
       "      <td>13056</td>\n",
       "      <td>campinas</td>\n",
       "      <td>SP</td>\n",
       "      <td>6b7d50bd145f6fc7f33cebabd7e49d0f</td>\n",
       "      <td>delivered</td>\n",
       "      <td>2018-07-29 09:51:30</td>\n",
       "      <td>2018-07-29 10:10:09</td>\n",
       "      <td>2018-07-30 15:16:00</td>\n",
       "      <td>2018-08-09 20:55:48</td>\n",
       "      <td>2018-08-15</td>\n",
       "    </tr>\n",
       "  </tbody>\n",
       "</table>\n",
       "</div>"
      ],
      "text/plain": [
       "                        customer_id                customer_unique_id  \\\n",
       "0  06b8999e2fba1a1fbc88172c00ba8bc7  861eff4711a542e4b93843c6dd7febb0   \n",
       "1  18955e83d337fd6b2def6b18a428ac77  290c77bc529b7ac935b93aa66c333dc3   \n",
       "2  4e7b3e00288586ebd08712fdd0374a03  060e732b5b29e8181a18229c7b0b2b5e   \n",
       "3  b2b6027bc5c5109e529d4dc6358b12c3  259dac757896d24d7702b9acbbff3f3c   \n",
       "4  4f2d8ab171c80ec8364f7c12e35b23ad  345ecd01c38d18a9036ed96c73b8d066   \n",
       "\n",
       "   customer_zip_code_prefix          customer_city customer_state  \\\n",
       "0                     14409                 franca             SP   \n",
       "1                      9790  sao bernardo do campo             SP   \n",
       "2                      1151              sao paulo             SP   \n",
       "3                      8775        mogi das cruzes             SP   \n",
       "4                     13056               campinas             SP   \n",
       "\n",
       "                           order_id order_status order_purchase_timestamp  \\\n",
       "0  00e7ee1b050b8499577073aeb2a297a1    delivered      2017-05-16 15:05:35   \n",
       "1  29150127e6685892b6eab3eec79f59c7    delivered      2018-01-12 20:48:24   \n",
       "2  b2059ed67ce144a36e2aa97d2c9e9ad2    delivered      2018-05-19 16:07:45   \n",
       "3  951670f92359f4fe4a63112aa7306eba    delivered      2018-03-13 16:06:38   \n",
       "4  6b7d50bd145f6fc7f33cebabd7e49d0f    delivered      2018-07-29 09:51:30   \n",
       "\n",
       "    order_approved_at order_delivered_carrier_date  \\\n",
       "0 2017-05-16 15:22:12          2017-05-23 10:47:57   \n",
       "1 2018-01-12 20:58:32          2018-01-15 17:14:59   \n",
       "2 2018-05-20 16:19:10          2018-06-11 14:31:00   \n",
       "3 2018-03-13 17:29:19          2018-03-27 23:22:42   \n",
       "4 2018-07-29 10:10:09          2018-07-30 15:16:00   \n",
       "\n",
       "  order_delivered_customer_date order_estimated_delivery_date  \n",
       "0           2017-05-25 10:35:35                    2017-06-05  \n",
       "1           2018-01-29 12:41:19                    2018-02-06  \n",
       "2           2018-06-14 17:58:51                    2018-06-13  \n",
       "3           2018-03-28 16:04:25                    2018-04-10  \n",
       "4           2018-08-09 20:55:48                    2018-08-15  "
      ]
     },
     "execution_count": 28,
     "metadata": {},
     "output_type": "execute_result"
    }
   ],
   "source": [
    "customers_orders.head()"
   ]
  },
  {
   "cell_type": "code",
   "execution_count": 43,
   "metadata": {},
   "outputs": [],
   "source": [
    "#customers_orders + items по order_id"
   ]
  },
  {
   "cell_type": "code",
   "execution_count": 44,
   "metadata": {},
   "outputs": [],
   "source": [
    "all = customers_orders.merge(items, on = 'order_id', how = 'left')"
   ]
  },
  {
   "cell_type": "code",
   "execution_count": 45,
   "metadata": {},
   "outputs": [
    {
     "data": {
      "text/plain": [
       "(113425, 18)"
      ]
     },
     "execution_count": 45,
     "metadata": {},
     "output_type": "execute_result"
    }
   ],
   "source": [
    "all.shape"
   ]
  },
  {
   "cell_type": "code",
   "execution_count": 46,
   "metadata": {},
   "outputs": [
    {
     "data": {
      "text/html": [
       "<div>\n",
       "<style scoped>\n",
       "    .dataframe tbody tr th:only-of-type {\n",
       "        vertical-align: middle;\n",
       "    }\n",
       "\n",
       "    .dataframe tbody tr th {\n",
       "        vertical-align: top;\n",
       "    }\n",
       "\n",
       "    .dataframe thead th {\n",
       "        text-align: right;\n",
       "    }\n",
       "</style>\n",
       "<table border=\"1\" class=\"dataframe\">\n",
       "  <thead>\n",
       "    <tr style=\"text-align: right;\">\n",
       "      <th></th>\n",
       "      <th>customer_id</th>\n",
       "      <th>customer_unique_id</th>\n",
       "      <th>customer_zip_code_prefix</th>\n",
       "      <th>customer_city</th>\n",
       "      <th>customer_state</th>\n",
       "      <th>order_id</th>\n",
       "      <th>order_status</th>\n",
       "      <th>order_purchase_timestamp</th>\n",
       "      <th>order_approved_at</th>\n",
       "      <th>order_delivered_carrier_date</th>\n",
       "      <th>order_delivered_customer_date</th>\n",
       "      <th>order_estimated_delivery_date</th>\n",
       "      <th>order_item_id</th>\n",
       "      <th>product_id</th>\n",
       "      <th>seller_id</th>\n",
       "      <th>shipping_limit_date</th>\n",
       "      <th>price</th>\n",
       "      <th>freight_value</th>\n",
       "    </tr>\n",
       "  </thead>\n",
       "  <tbody>\n",
       "    <tr>\n",
       "      <th>0</th>\n",
       "      <td>06b8999e2fba1a1fbc88172c00ba8bc7</td>\n",
       "      <td>861eff4711a542e4b93843c6dd7febb0</td>\n",
       "      <td>14409</td>\n",
       "      <td>franca</td>\n",
       "      <td>SP</td>\n",
       "      <td>00e7ee1b050b8499577073aeb2a297a1</td>\n",
       "      <td>delivered</td>\n",
       "      <td>2017-05-16 15:05:35</td>\n",
       "      <td>2017-05-16 15:22:12</td>\n",
       "      <td>2017-05-23 10:47:57</td>\n",
       "      <td>2017-05-25 10:35:35</td>\n",
       "      <td>2017-06-05</td>\n",
       "      <td>1.0</td>\n",
       "      <td>a9516a079e37a9c9c36b9b78b10169e8</td>\n",
       "      <td>7c67e1448b00f6e969d365cea6b010ab</td>\n",
       "      <td>2017-05-22 15:22:12</td>\n",
       "      <td>124.99</td>\n",
       "      <td>21.88</td>\n",
       "    </tr>\n",
       "    <tr>\n",
       "      <th>1</th>\n",
       "      <td>18955e83d337fd6b2def6b18a428ac77</td>\n",
       "      <td>290c77bc529b7ac935b93aa66c333dc3</td>\n",
       "      <td>9790</td>\n",
       "      <td>sao bernardo do campo</td>\n",
       "      <td>SP</td>\n",
       "      <td>29150127e6685892b6eab3eec79f59c7</td>\n",
       "      <td>delivered</td>\n",
       "      <td>2018-01-12 20:48:24</td>\n",
       "      <td>2018-01-12 20:58:32</td>\n",
       "      <td>2018-01-15 17:14:59</td>\n",
       "      <td>2018-01-29 12:41:19</td>\n",
       "      <td>2018-02-06</td>\n",
       "      <td>1.0</td>\n",
       "      <td>4aa6014eceb682077f9dc4bffebc05b0</td>\n",
       "      <td>b8bc237ba3788b23da09c0f1f3a3288c</td>\n",
       "      <td>2018-01-18 20:58:32</td>\n",
       "      <td>289.00</td>\n",
       "      <td>46.48</td>\n",
       "    </tr>\n",
       "    <tr>\n",
       "      <th>2</th>\n",
       "      <td>4e7b3e00288586ebd08712fdd0374a03</td>\n",
       "      <td>060e732b5b29e8181a18229c7b0b2b5e</td>\n",
       "      <td>1151</td>\n",
       "      <td>sao paulo</td>\n",
       "      <td>SP</td>\n",
       "      <td>b2059ed67ce144a36e2aa97d2c9e9ad2</td>\n",
       "      <td>delivered</td>\n",
       "      <td>2018-05-19 16:07:45</td>\n",
       "      <td>2018-05-20 16:19:10</td>\n",
       "      <td>2018-06-11 14:31:00</td>\n",
       "      <td>2018-06-14 17:58:51</td>\n",
       "      <td>2018-06-13</td>\n",
       "      <td>1.0</td>\n",
       "      <td>bd07b66896d6f1494f5b86251848ced7</td>\n",
       "      <td>7c67e1448b00f6e969d365cea6b010ab</td>\n",
       "      <td>2018-06-05 16:19:10</td>\n",
       "      <td>139.94</td>\n",
       "      <td>17.79</td>\n",
       "    </tr>\n",
       "    <tr>\n",
       "      <th>3</th>\n",
       "      <td>b2b6027bc5c5109e529d4dc6358b12c3</td>\n",
       "      <td>259dac757896d24d7702b9acbbff3f3c</td>\n",
       "      <td>8775</td>\n",
       "      <td>mogi das cruzes</td>\n",
       "      <td>SP</td>\n",
       "      <td>951670f92359f4fe4a63112aa7306eba</td>\n",
       "      <td>delivered</td>\n",
       "      <td>2018-03-13 16:06:38</td>\n",
       "      <td>2018-03-13 17:29:19</td>\n",
       "      <td>2018-03-27 23:22:42</td>\n",
       "      <td>2018-03-28 16:04:25</td>\n",
       "      <td>2018-04-10</td>\n",
       "      <td>1.0</td>\n",
       "      <td>a5647c44af977b148e0a3a4751a09e2e</td>\n",
       "      <td>7c67e1448b00f6e969d365cea6b010ab</td>\n",
       "      <td>2018-03-27 16:31:16</td>\n",
       "      <td>149.94</td>\n",
       "      <td>23.36</td>\n",
       "    </tr>\n",
       "    <tr>\n",
       "      <th>4</th>\n",
       "      <td>4f2d8ab171c80ec8364f7c12e35b23ad</td>\n",
       "      <td>345ecd01c38d18a9036ed96c73b8d066</td>\n",
       "      <td>13056</td>\n",
       "      <td>campinas</td>\n",
       "      <td>SP</td>\n",
       "      <td>6b7d50bd145f6fc7f33cebabd7e49d0f</td>\n",
       "      <td>delivered</td>\n",
       "      <td>2018-07-29 09:51:30</td>\n",
       "      <td>2018-07-29 10:10:09</td>\n",
       "      <td>2018-07-30 15:16:00</td>\n",
       "      <td>2018-08-09 20:55:48</td>\n",
       "      <td>2018-08-15</td>\n",
       "      <td>1.0</td>\n",
       "      <td>9391a573abe00141c56e38d84d7d5b3b</td>\n",
       "      <td>4a3ca9315b744ce9f8e9374361493884</td>\n",
       "      <td>2018-07-31 10:10:09</td>\n",
       "      <td>230.00</td>\n",
       "      <td>22.25</td>\n",
       "    </tr>\n",
       "  </tbody>\n",
       "</table>\n",
       "</div>"
      ],
      "text/plain": [
       "                        customer_id                customer_unique_id  \\\n",
       "0  06b8999e2fba1a1fbc88172c00ba8bc7  861eff4711a542e4b93843c6dd7febb0   \n",
       "1  18955e83d337fd6b2def6b18a428ac77  290c77bc529b7ac935b93aa66c333dc3   \n",
       "2  4e7b3e00288586ebd08712fdd0374a03  060e732b5b29e8181a18229c7b0b2b5e   \n",
       "3  b2b6027bc5c5109e529d4dc6358b12c3  259dac757896d24d7702b9acbbff3f3c   \n",
       "4  4f2d8ab171c80ec8364f7c12e35b23ad  345ecd01c38d18a9036ed96c73b8d066   \n",
       "\n",
       "   customer_zip_code_prefix          customer_city customer_state  \\\n",
       "0                     14409                 franca             SP   \n",
       "1                      9790  sao bernardo do campo             SP   \n",
       "2                      1151              sao paulo             SP   \n",
       "3                      8775        mogi das cruzes             SP   \n",
       "4                     13056               campinas             SP   \n",
       "\n",
       "                           order_id order_status order_purchase_timestamp  \\\n",
       "0  00e7ee1b050b8499577073aeb2a297a1    delivered      2017-05-16 15:05:35   \n",
       "1  29150127e6685892b6eab3eec79f59c7    delivered      2018-01-12 20:48:24   \n",
       "2  b2059ed67ce144a36e2aa97d2c9e9ad2    delivered      2018-05-19 16:07:45   \n",
       "3  951670f92359f4fe4a63112aa7306eba    delivered      2018-03-13 16:06:38   \n",
       "4  6b7d50bd145f6fc7f33cebabd7e49d0f    delivered      2018-07-29 09:51:30   \n",
       "\n",
       "    order_approved_at order_delivered_carrier_date  \\\n",
       "0 2017-05-16 15:22:12          2017-05-23 10:47:57   \n",
       "1 2018-01-12 20:58:32          2018-01-15 17:14:59   \n",
       "2 2018-05-20 16:19:10          2018-06-11 14:31:00   \n",
       "3 2018-03-13 17:29:19          2018-03-27 23:22:42   \n",
       "4 2018-07-29 10:10:09          2018-07-30 15:16:00   \n",
       "\n",
       "  order_delivered_customer_date order_estimated_delivery_date  order_item_id  \\\n",
       "0           2017-05-25 10:35:35                    2017-06-05            1.0   \n",
       "1           2018-01-29 12:41:19                    2018-02-06            1.0   \n",
       "2           2018-06-14 17:58:51                    2018-06-13            1.0   \n",
       "3           2018-03-28 16:04:25                    2018-04-10            1.0   \n",
       "4           2018-08-09 20:55:48                    2018-08-15            1.0   \n",
       "\n",
       "                         product_id                         seller_id  \\\n",
       "0  a9516a079e37a9c9c36b9b78b10169e8  7c67e1448b00f6e969d365cea6b010ab   \n",
       "1  4aa6014eceb682077f9dc4bffebc05b0  b8bc237ba3788b23da09c0f1f3a3288c   \n",
       "2  bd07b66896d6f1494f5b86251848ced7  7c67e1448b00f6e969d365cea6b010ab   \n",
       "3  a5647c44af977b148e0a3a4751a09e2e  7c67e1448b00f6e969d365cea6b010ab   \n",
       "4  9391a573abe00141c56e38d84d7d5b3b  4a3ca9315b744ce9f8e9374361493884   \n",
       "\n",
       "  shipping_limit_date   price  freight_value  \n",
       "0 2017-05-22 15:22:12  124.99          21.88  \n",
       "1 2018-01-18 20:58:32  289.00          46.48  \n",
       "2 2018-06-05 16:19:10  139.94          17.79  \n",
       "3 2018-03-27 16:31:16  149.94          23.36  \n",
       "4 2018-07-31 10:10:09  230.00          22.25  "
      ]
     },
     "execution_count": 46,
     "metadata": {},
     "output_type": "execute_result"
    }
   ],
   "source": [
    "all.head()"
   ]
  },
  {
   "cell_type": "code",
   "execution_count": 47,
   "metadata": {},
   "outputs": [
    {
     "data": {
      "text/plain": [
       "(113425, 18)"
      ]
     },
     "execution_count": 47,
     "metadata": {},
     "output_type": "execute_result"
    }
   ],
   "source": [
    "all.shape"
   ]
  },
  {
   "cell_type": "markdown",
   "metadata": {},
   "source": [
    "Is better to select only required columns for the table we will use next"
   ]
  },
  {
   "cell_type": "code",
   "execution_count": 48,
   "metadata": {},
   "outputs": [],
   "source": [
    "df = all[['customer_unique_id', 'order_id', 'order_purchase_timestamp', 'order_approved_at', 'price']].copy()"
   ]
  },
  {
   "cell_type": "code",
   "execution_count": 49,
   "metadata": {},
   "outputs": [
    {
     "data": {
      "text/html": [
       "<div>\n",
       "<style scoped>\n",
       "    .dataframe tbody tr th:only-of-type {\n",
       "        vertical-align: middle;\n",
       "    }\n",
       "\n",
       "    .dataframe tbody tr th {\n",
       "        vertical-align: top;\n",
       "    }\n",
       "\n",
       "    .dataframe thead th {\n",
       "        text-align: right;\n",
       "    }\n",
       "</style>\n",
       "<table border=\"1\" class=\"dataframe\">\n",
       "  <thead>\n",
       "    <tr style=\"text-align: right;\">\n",
       "      <th></th>\n",
       "      <th>customer_unique_id</th>\n",
       "      <th>order_id</th>\n",
       "      <th>order_purchase_timestamp</th>\n",
       "      <th>order_approved_at</th>\n",
       "      <th>price</th>\n",
       "    </tr>\n",
       "  </thead>\n",
       "  <tbody>\n",
       "    <tr>\n",
       "      <th>0</th>\n",
       "      <td>861eff4711a542e4b93843c6dd7febb0</td>\n",
       "      <td>00e7ee1b050b8499577073aeb2a297a1</td>\n",
       "      <td>2017-05-16 15:05:35</td>\n",
       "      <td>2017-05-16 15:22:12</td>\n",
       "      <td>124.99</td>\n",
       "    </tr>\n",
       "    <tr>\n",
       "      <th>1</th>\n",
       "      <td>290c77bc529b7ac935b93aa66c333dc3</td>\n",
       "      <td>29150127e6685892b6eab3eec79f59c7</td>\n",
       "      <td>2018-01-12 20:48:24</td>\n",
       "      <td>2018-01-12 20:58:32</td>\n",
       "      <td>289.00</td>\n",
       "    </tr>\n",
       "    <tr>\n",
       "      <th>2</th>\n",
       "      <td>060e732b5b29e8181a18229c7b0b2b5e</td>\n",
       "      <td>b2059ed67ce144a36e2aa97d2c9e9ad2</td>\n",
       "      <td>2018-05-19 16:07:45</td>\n",
       "      <td>2018-05-20 16:19:10</td>\n",
       "      <td>139.94</td>\n",
       "    </tr>\n",
       "    <tr>\n",
       "      <th>3</th>\n",
       "      <td>259dac757896d24d7702b9acbbff3f3c</td>\n",
       "      <td>951670f92359f4fe4a63112aa7306eba</td>\n",
       "      <td>2018-03-13 16:06:38</td>\n",
       "      <td>2018-03-13 17:29:19</td>\n",
       "      <td>149.94</td>\n",
       "    </tr>\n",
       "    <tr>\n",
       "      <th>4</th>\n",
       "      <td>345ecd01c38d18a9036ed96c73b8d066</td>\n",
       "      <td>6b7d50bd145f6fc7f33cebabd7e49d0f</td>\n",
       "      <td>2018-07-29 09:51:30</td>\n",
       "      <td>2018-07-29 10:10:09</td>\n",
       "      <td>230.00</td>\n",
       "    </tr>\n",
       "  </tbody>\n",
       "</table>\n",
       "</div>"
      ],
      "text/plain": [
       "                 customer_unique_id                          order_id  \\\n",
       "0  861eff4711a542e4b93843c6dd7febb0  00e7ee1b050b8499577073aeb2a297a1   \n",
       "1  290c77bc529b7ac935b93aa66c333dc3  29150127e6685892b6eab3eec79f59c7   \n",
       "2  060e732b5b29e8181a18229c7b0b2b5e  b2059ed67ce144a36e2aa97d2c9e9ad2   \n",
       "3  259dac757896d24d7702b9acbbff3f3c  951670f92359f4fe4a63112aa7306eba   \n",
       "4  345ecd01c38d18a9036ed96c73b8d066  6b7d50bd145f6fc7f33cebabd7e49d0f   \n",
       "\n",
       "  order_purchase_timestamp   order_approved_at   price  \n",
       "0      2017-05-16 15:05:35 2017-05-16 15:22:12  124.99  \n",
       "1      2018-01-12 20:48:24 2018-01-12 20:58:32  289.00  \n",
       "2      2018-05-19 16:07:45 2018-05-20 16:19:10  139.94  \n",
       "3      2018-03-13 16:06:38 2018-03-13 17:29:19  149.94  \n",
       "4      2018-07-29 09:51:30 2018-07-29 10:10:09  230.00  "
      ]
     },
     "execution_count": 49,
     "metadata": {},
     "output_type": "execute_result"
    }
   ],
   "source": [
    "df.head()"
   ]
  },
  {
   "cell_type": "code",
   "execution_count": 50,
   "metadata": {},
   "outputs": [
    {
     "data": {
      "text/plain": [
       "customer_unique_id                  object\n",
       "order_id                            object\n",
       "order_purchase_timestamp    datetime64[ns]\n",
       "order_approved_at           datetime64[ns]\n",
       "price                              float64\n",
       "dtype: object"
      ]
     },
     "execution_count": 50,
     "metadata": {},
     "output_type": "execute_result"
    }
   ],
   "source": [
    "df.dtypes"
   ]
  },
  {
   "cell_type": "markdown",
   "metadata": {},
   "source": [
    "To estimate the amount of purchases, we need the amount of each order, for this we group order_items by the order_id field and sum the price column and add the prize column to the main dataframe."
   ]
  },
  {
   "cell_type": "code",
   "execution_count": 51,
   "metadata": {},
   "outputs": [],
   "source": [
    "sum_orders = df.groupby(['customer_unique_id', 'order_id', 'order_purchase_timestamp'], as_index = False)\\\n",
    "               .agg({\"price\":\"sum\"})\n",
    "#calculate amount of each order"
   ]
  },
  {
   "cell_type": "code",
   "execution_count": 52,
   "metadata": {},
   "outputs": [
    {
     "data": {
      "text/html": [
       "<div>\n",
       "<style scoped>\n",
       "    .dataframe tbody tr th:only-of-type {\n",
       "        vertical-align: middle;\n",
       "    }\n",
       "\n",
       "    .dataframe tbody tr th {\n",
       "        vertical-align: top;\n",
       "    }\n",
       "\n",
       "    .dataframe thead th {\n",
       "        text-align: right;\n",
       "    }\n",
       "</style>\n",
       "<table border=\"1\" class=\"dataframe\">\n",
       "  <thead>\n",
       "    <tr style=\"text-align: right;\">\n",
       "      <th></th>\n",
       "      <th>customer_unique_id</th>\n",
       "      <th>order_id</th>\n",
       "      <th>order_purchase_timestamp</th>\n",
       "      <th>price</th>\n",
       "    </tr>\n",
       "  </thead>\n",
       "  <tbody>\n",
       "    <tr>\n",
       "      <th>0</th>\n",
       "      <td>0000366f3b9a7992bf8c76cfdf3221e2</td>\n",
       "      <td>e22acc9c116caa3f2b7121bbb380d08e</td>\n",
       "      <td>2018-05-10 10:56:27</td>\n",
       "      <td>129.90</td>\n",
       "    </tr>\n",
       "    <tr>\n",
       "      <th>1</th>\n",
       "      <td>0000b849f77a49e4a4ce2b2a4ca5be3f</td>\n",
       "      <td>3594e05a005ac4d06a72673270ef9ec9</td>\n",
       "      <td>2018-05-07 11:11:27</td>\n",
       "      <td>18.90</td>\n",
       "    </tr>\n",
       "    <tr>\n",
       "      <th>2</th>\n",
       "      <td>0000f46a3911fa3c0805444483337064</td>\n",
       "      <td>b33ec3b699337181488304f362a6b734</td>\n",
       "      <td>2017-03-10 21:05:03</td>\n",
       "      <td>69.00</td>\n",
       "    </tr>\n",
       "    <tr>\n",
       "      <th>3</th>\n",
       "      <td>0000f6ccb0745a6a4b88665a16c9f078</td>\n",
       "      <td>41272756ecddd9a9ed0180413cc22fb6</td>\n",
       "      <td>2017-10-12 20:29:41</td>\n",
       "      <td>25.99</td>\n",
       "    </tr>\n",
       "  </tbody>\n",
       "</table>\n",
       "</div>"
      ],
      "text/plain": [
       "                 customer_unique_id                          order_id  \\\n",
       "0  0000366f3b9a7992bf8c76cfdf3221e2  e22acc9c116caa3f2b7121bbb380d08e   \n",
       "1  0000b849f77a49e4a4ce2b2a4ca5be3f  3594e05a005ac4d06a72673270ef9ec9   \n",
       "2  0000f46a3911fa3c0805444483337064  b33ec3b699337181488304f362a6b734   \n",
       "3  0000f6ccb0745a6a4b88665a16c9f078  41272756ecddd9a9ed0180413cc22fb6   \n",
       "\n",
       "  order_purchase_timestamp   price  \n",
       "0      2018-05-10 10:56:27  129.90  \n",
       "1      2018-05-07 11:11:27   18.90  \n",
       "2      2017-03-10 21:05:03   69.00  \n",
       "3      2017-10-12 20:29:41   25.99  "
      ]
     },
     "execution_count": 52,
     "metadata": {},
     "output_type": "execute_result"
    }
   ],
   "source": [
    "sum_orders.head(4)"
   ]
  },
  {
   "cell_type": "code",
   "execution_count": 53,
   "metadata": {},
   "outputs": [
    {
     "name": "stdout",
     "output_type": "stream",
     "text": [
      "Orders from 2016-09-04 21:15:19 to 2018-10-17 17:30:18\n"
     ]
    }
   ],
   "source": [
    "print('Orders from {} to {}'.format(sum_orders['order_purchase_timestamp'].min(),\n",
    "                                    sum_orders['order_purchase_timestamp'].max()))# посмотрим за какое время у нас данные о покупках"
   ]
  },
  {
   "cell_type": "markdown",
   "metadata": {},
   "source": [
    "I will select data only for the full year -  2017"
   ]
  },
  {
   "cell_type": "code",
   "execution_count": 54,
   "metadata": {},
   "outputs": [
    {
     "data": {
      "text/html": [
       "<div>\n",
       "<style scoped>\n",
       "    .dataframe tbody tr th:only-of-type {\n",
       "        vertical-align: middle;\n",
       "    }\n",
       "\n",
       "    .dataframe tbody tr th {\n",
       "        vertical-align: top;\n",
       "    }\n",
       "\n",
       "    .dataframe thead th {\n",
       "        text-align: right;\n",
       "    }\n",
       "</style>\n",
       "<table border=\"1\" class=\"dataframe\">\n",
       "  <thead>\n",
       "    <tr style=\"text-align: right;\">\n",
       "      <th></th>\n",
       "      <th>customer_unique_id</th>\n",
       "      <th>order_id</th>\n",
       "      <th>order_purchase_timestamp</th>\n",
       "      <th>price</th>\n",
       "    </tr>\n",
       "  </thead>\n",
       "  <tbody>\n",
       "    <tr>\n",
       "      <th>2</th>\n",
       "      <td>0000f46a3911fa3c0805444483337064</td>\n",
       "      <td>b33ec3b699337181488304f362a6b734</td>\n",
       "      <td>2017-03-10 21:05:03</td>\n",
       "      <td>69.00</td>\n",
       "    </tr>\n",
       "    <tr>\n",
       "      <th>3</th>\n",
       "      <td>0000f6ccb0745a6a4b88665a16c9f078</td>\n",
       "      <td>41272756ecddd9a9ed0180413cc22fb6</td>\n",
       "      <td>2017-10-12 20:29:41</td>\n",
       "      <td>25.99</td>\n",
       "    </tr>\n",
       "    <tr>\n",
       "      <th>4</th>\n",
       "      <td>0004aac84e0df4da2b147fca70cf8255</td>\n",
       "      <td>d957021f1127559cd947b62533f484f7</td>\n",
       "      <td>2017-11-14 19:45:42</td>\n",
       "      <td>180.00</td>\n",
       "    </tr>\n",
       "    <tr>\n",
       "      <th>8</th>\n",
       "      <td>0005e1862207bf6ccc02e4228effd9a0</td>\n",
       "      <td>ae76bef74b97bcb0b3e355e60d9a6f9c</td>\n",
       "      <td>2017-03-04 23:32:12</td>\n",
       "      <td>135.00</td>\n",
       "    </tr>\n",
       "    <tr>\n",
       "      <th>10</th>\n",
       "      <td>0006fdc98a402fceb4eb0ee528f6a8d4</td>\n",
       "      <td>6681163e3dab91c549952b2845b20281</td>\n",
       "      <td>2017-07-18 09:23:10</td>\n",
       "      <td>13.90</td>\n",
       "    </tr>\n",
       "    <tr>\n",
       "      <th>...</th>\n",
       "      <td>...</td>\n",
       "      <td>...</td>\n",
       "      <td>...</td>\n",
       "      <td>...</td>\n",
       "    </tr>\n",
       "    <tr>\n",
       "      <th>99434</th>\n",
       "      <td>fffbf87b7a1a6fa8b03f081c5f51a201</td>\n",
       "      <td>64397307c6954ae1ad2ad8e791ad8a31</td>\n",
       "      <td>2017-12-27 22:36:41</td>\n",
       "      <td>149.00</td>\n",
       "    </tr>\n",
       "    <tr>\n",
       "      <th>99436</th>\n",
       "      <td>fffcf5a5ff07b0908bd4e2dbc735a684</td>\n",
       "      <td>725cf8e9c24e679a8a5a32cb92c9ce1e</td>\n",
       "      <td>2017-06-08 21:00:36</td>\n",
       "      <td>1570.00</td>\n",
       "    </tr>\n",
       "    <tr>\n",
       "      <th>99437</th>\n",
       "      <td>fffea47cd6d3cc0a88bd621562a9d061</td>\n",
       "      <td>c71b9252fd7b3b263aaa4cb09319a323</td>\n",
       "      <td>2017-12-10 20:07:56</td>\n",
       "      <td>64.89</td>\n",
       "    </tr>\n",
       "    <tr>\n",
       "      <th>99438</th>\n",
       "      <td>ffff371b4d645b6ecea244b27531430a</td>\n",
       "      <td>fdc45e6c7555e6cb3cc0daca2557dbe1</td>\n",
       "      <td>2017-02-07 15:49:16</td>\n",
       "      <td>89.90</td>\n",
       "    </tr>\n",
       "    <tr>\n",
       "      <th>99440</th>\n",
       "      <td>ffffd2657e2aad2907e67c3e9daecbeb</td>\n",
       "      <td>f79a35da168301ae56922475da21117b</td>\n",
       "      <td>2017-05-02 20:18:45</td>\n",
       "      <td>56.99</td>\n",
       "    </tr>\n",
       "  </tbody>\n",
       "</table>\n",
       "<p>45101 rows × 4 columns</p>\n",
       "</div>"
      ],
      "text/plain": [
       "                     customer_unique_id                          order_id  \\\n",
       "2      0000f46a3911fa3c0805444483337064  b33ec3b699337181488304f362a6b734   \n",
       "3      0000f6ccb0745a6a4b88665a16c9f078  41272756ecddd9a9ed0180413cc22fb6   \n",
       "4      0004aac84e0df4da2b147fca70cf8255  d957021f1127559cd947b62533f484f7   \n",
       "8      0005e1862207bf6ccc02e4228effd9a0  ae76bef74b97bcb0b3e355e60d9a6f9c   \n",
       "10     0006fdc98a402fceb4eb0ee528f6a8d4  6681163e3dab91c549952b2845b20281   \n",
       "...                                 ...                               ...   \n",
       "99434  fffbf87b7a1a6fa8b03f081c5f51a201  64397307c6954ae1ad2ad8e791ad8a31   \n",
       "99436  fffcf5a5ff07b0908bd4e2dbc735a684  725cf8e9c24e679a8a5a32cb92c9ce1e   \n",
       "99437  fffea47cd6d3cc0a88bd621562a9d061  c71b9252fd7b3b263aaa4cb09319a323   \n",
       "99438  ffff371b4d645b6ecea244b27531430a  fdc45e6c7555e6cb3cc0daca2557dbe1   \n",
       "99440  ffffd2657e2aad2907e67c3e9daecbeb  f79a35da168301ae56922475da21117b   \n",
       "\n",
       "      order_purchase_timestamp    price  \n",
       "2          2017-03-10 21:05:03    69.00  \n",
       "3          2017-10-12 20:29:41    25.99  \n",
       "4          2017-11-14 19:45:42   180.00  \n",
       "8          2017-03-04 23:32:12   135.00  \n",
       "10         2017-07-18 09:23:10    13.90  \n",
       "...                        ...      ...  \n",
       "99434      2017-12-27 22:36:41   149.00  \n",
       "99436      2017-06-08 21:00:36  1570.00  \n",
       "99437      2017-12-10 20:07:56    64.89  \n",
       "99438      2017-02-07 15:49:16    89.90  \n",
       "99440      2017-05-02 20:18:45    56.99  \n",
       "\n",
       "[45101 rows x 4 columns]"
      ]
     },
     "execution_count": 54,
     "metadata": {},
     "output_type": "execute_result"
    }
   ],
   "source": [
    "sum_orders = sum_orders.query('order_purchase_timestamp > \"2016-12-31\" and order_purchase_timestamp < \"2018-01-01\"')\n",
    "sum_orders"
   ]
  },
  {
   "cell_type": "markdown",
   "metadata": {},
   "source": [
    "We consider order_purchase_timestamp as the date of creation of the order - the buyer has already chosen something, but may not have paid.\n",
    "Still, this means that he has an interest"
   ]
  },
  {
   "cell_type": "code",
   "execution_count": 55,
   "metadata": {},
   "outputs": [],
   "source": [
    "now = sum_orders['order_purchase_timestamp'].max() + timedelta(days=1)"
   ]
  },
  {
   "cell_type": "code",
   "execution_count": 56,
   "metadata": {},
   "outputs": [
    {
     "data": {
      "text/plain": [
       "Timestamp('2018-01-01 23:29:31')"
      ]
     },
     "execution_count": 56,
     "metadata": {},
     "output_type": "execute_result"
    }
   ],
   "source": [
    "now"
   ]
  },
  {
   "cell_type": "markdown",
   "metadata": {},
   "source": [
    "#### Calculate the Recency, Frequency and Monetary Value of each customers\n",
    "___\n",
    "Let's group the data by customer_unique_id and calculate \n",
    "- R (recency) - the time from the last purchase of the user to the current date, \n",
    "- F (frequency) - the total number of purchases from the user for the entire time,\n",
    "- M (monetary) - the amount of purchases for the entire time."
   ]
  },
  {
   "cell_type": "code",
   "execution_count": 57,
   "metadata": {},
   "outputs": [],
   "source": [
    "sum_orders['Days_Since_Order'] = sum_orders['order_purchase_timestamp'].apply(lambda x: (now - x).days)\n",
    "# Count the number of days from today to the order date"
   ]
  },
  {
   "cell_type": "code",
   "execution_count": 58,
   "metadata": {},
   "outputs": [
    {
     "data": {
      "text/html": [
       "<div>\n",
       "<style scoped>\n",
       "    .dataframe tbody tr th:only-of-type {\n",
       "        vertical-align: middle;\n",
       "    }\n",
       "\n",
       "    .dataframe tbody tr th {\n",
       "        vertical-align: top;\n",
       "    }\n",
       "\n",
       "    .dataframe thead th {\n",
       "        text-align: right;\n",
       "    }\n",
       "</style>\n",
       "<table border=\"1\" class=\"dataframe\">\n",
       "  <thead>\n",
       "    <tr style=\"text-align: right;\">\n",
       "      <th></th>\n",
       "      <th>customer_unique_id</th>\n",
       "      <th>order_id</th>\n",
       "      <th>order_purchase_timestamp</th>\n",
       "      <th>price</th>\n",
       "      <th>Days_Since_Order</th>\n",
       "    </tr>\n",
       "  </thead>\n",
       "  <tbody>\n",
       "    <tr>\n",
       "      <th>2</th>\n",
       "      <td>0000f46a3911fa3c0805444483337064</td>\n",
       "      <td>b33ec3b699337181488304f362a6b734</td>\n",
       "      <td>2017-03-10 21:05:03</td>\n",
       "      <td>69.00</td>\n",
       "      <td>297</td>\n",
       "    </tr>\n",
       "    <tr>\n",
       "      <th>3</th>\n",
       "      <td>0000f6ccb0745a6a4b88665a16c9f078</td>\n",
       "      <td>41272756ecddd9a9ed0180413cc22fb6</td>\n",
       "      <td>2017-10-12 20:29:41</td>\n",
       "      <td>25.99</td>\n",
       "      <td>81</td>\n",
       "    </tr>\n",
       "    <tr>\n",
       "      <th>4</th>\n",
       "      <td>0004aac84e0df4da2b147fca70cf8255</td>\n",
       "      <td>d957021f1127559cd947b62533f484f7</td>\n",
       "      <td>2017-11-14 19:45:42</td>\n",
       "      <td>180.00</td>\n",
       "      <td>48</td>\n",
       "    </tr>\n",
       "    <tr>\n",
       "      <th>8</th>\n",
       "      <td>0005e1862207bf6ccc02e4228effd9a0</td>\n",
       "      <td>ae76bef74b97bcb0b3e355e60d9a6f9c</td>\n",
       "      <td>2017-03-04 23:32:12</td>\n",
       "      <td>135.00</td>\n",
       "      <td>302</td>\n",
       "    </tr>\n",
       "    <tr>\n",
       "      <th>10</th>\n",
       "      <td>0006fdc98a402fceb4eb0ee528f6a8d4</td>\n",
       "      <td>6681163e3dab91c549952b2845b20281</td>\n",
       "      <td>2017-07-18 09:23:10</td>\n",
       "      <td>13.90</td>\n",
       "      <td>167</td>\n",
       "    </tr>\n",
       "    <tr>\n",
       "      <th>11</th>\n",
       "      <td>00082cbe03e478190aadbea78542e933</td>\n",
       "      <td>67503374d1fbcbe5e3a40324f703ffc8</td>\n",
       "      <td>2017-11-19 15:22:02</td>\n",
       "      <td>79.00</td>\n",
       "      <td>43</td>\n",
       "    </tr>\n",
       "    <tr>\n",
       "      <th>14</th>\n",
       "      <td>000a5ad9c4601d2bbdd9ed765d5213b3</td>\n",
       "      <td>f7fa5cf8386e51037856df1add3e1228</td>\n",
       "      <td>2017-08-11 13:45:15</td>\n",
       "      <td>76.99</td>\n",
       "      <td>143</td>\n",
       "    </tr>\n",
       "  </tbody>\n",
       "</table>\n",
       "</div>"
      ],
      "text/plain": [
       "                  customer_unique_id                          order_id  \\\n",
       "2   0000f46a3911fa3c0805444483337064  b33ec3b699337181488304f362a6b734   \n",
       "3   0000f6ccb0745a6a4b88665a16c9f078  41272756ecddd9a9ed0180413cc22fb6   \n",
       "4   0004aac84e0df4da2b147fca70cf8255  d957021f1127559cd947b62533f484f7   \n",
       "8   0005e1862207bf6ccc02e4228effd9a0  ae76bef74b97bcb0b3e355e60d9a6f9c   \n",
       "10  0006fdc98a402fceb4eb0ee528f6a8d4  6681163e3dab91c549952b2845b20281   \n",
       "11  00082cbe03e478190aadbea78542e933  67503374d1fbcbe5e3a40324f703ffc8   \n",
       "14  000a5ad9c4601d2bbdd9ed765d5213b3  f7fa5cf8386e51037856df1add3e1228   \n",
       "\n",
       "   order_purchase_timestamp   price  Days_Since_Order  \n",
       "2       2017-03-10 21:05:03   69.00               297  \n",
       "3       2017-10-12 20:29:41   25.99                81  \n",
       "4       2017-11-14 19:45:42  180.00                48  \n",
       "8       2017-03-04 23:32:12  135.00               302  \n",
       "10      2017-07-18 09:23:10   13.90               167  \n",
       "11      2017-11-19 15:22:02   79.00                43  \n",
       "14      2017-08-11 13:45:15   76.99               143  "
      ]
     },
     "execution_count": 58,
     "metadata": {},
     "output_type": "execute_result"
    }
   ],
   "source": [
    "sum_orders.head(7)"
   ]
  },
  {
   "cell_type": "code",
   "execution_count": 59,
   "metadata": {},
   "outputs": [],
   "source": [
    "rfmTable = sum_orders.groupby('customer_unique_id', as_index = False).agg({'Days_Since_Order': lambda x:x.min(),# Recency\n",
    "                                                         'order_id': lambda x: len(x), # Frequency\n",
    "                                                         'price': lambda x: x.sum()}) # Monetary"
   ]
  },
  {
   "cell_type": "code",
   "execution_count": 60,
   "metadata": {},
   "outputs": [],
   "source": [
    "rfmTable.rename(columns={'Days_Since_Order': 'recency', \n",
    "                         'order_id': 'frequency', \n",
    "                         'price': 'monetary'}, inplace=True)"
   ]
  },
  {
   "cell_type": "markdown",
   "metadata": {},
   "source": [
    "To divide customers into segments, we use the quartile method, i.e. divide each value into 5 parts\n",
    "- Recency: 5- last order was not much time ago, 1 - the order was far in the past\n",
    "- Frequency: 5- buys often, 1 - not often\n",
    "- Monetary: 5- high sum in bill, 1 - low bill"
   ]
  },
  {
   "cell_type": "code",
   "execution_count": 61,
   "metadata": {},
   "outputs": [
    {
     "data": {
      "text/plain": [
       "{'recency': {0.2: 38.0, 0.4: 92.0, 0.6: 157.0, 0.8: 233.0},\n",
       " 'frequency': {0.2: 1.0, 0.4: 1.0, 0.6: 1.0, 0.8: 1.0},\n",
       " 'monetary': {0.2: 39.0, 0.4: 65.99, 0.6: 105.9, 0.8: 179.9}}"
      ]
     },
     "execution_count": 61,
     "metadata": {},
     "output_type": "execute_result"
    }
   ],
   "source": [
    "#Calculate the quantiles for each value and put them in a dictionary\n",
    "quantiles = rfmTable[['recency', 'frequency', 'monetary']].quantile([.2, .4, .6, .8]).to_dict()\n",
    "quantiles\n"
   ]
  },
  {
   "cell_type": "code",
   "execution_count": 62,
   "metadata": {},
   "outputs": [
    {
     "data": {
      "text/plain": [
       "{'recency': {0.2: 38.0, 0.4: 92.0, 0.6: 157.0, 0.8: 233.0},\n",
       " 'frequency': {0.2: 1.0, 0.4: 3.0, 0.6: 5.0, 0.8: 9.0},\n",
       " 'monetary': {0.2: 39.0, 0.4: 65.99, 0.6: 105.9, 0.8: 179.9}}"
      ]
     },
     "execution_count": 62,
     "metadata": {},
     "output_type": "execute_result"
    }
   ],
   "source": [
    "# as max number of orders is 10\n",
    "quantiles['frequency'] = {0.2: 1.0, 0.4: 3.0, 0.6: 5.0, 0.8: 9.0}\n",
    "quantiles"
   ]
  },
  {
   "cell_type": "code",
   "execution_count": 65,
   "metadata": {},
   "outputs": [],
   "source": [
    "# Let's write functions for segmentation through quantiles:\n",
    "# For recency - the lower number of days since the last purchase is, is better:\n",
    "\n",
    "def r(x):\n",
    "    if x <= quantiles['recency'][.2]:\n",
    "        return 5\n",
    "    elif x <= quantiles['recency'][.4]:\n",
    "        return 4\n",
    "    elif x <= quantiles['recency'][.6]:\n",
    "        return 3\n",
    "    elif x <= quantiles['recency'][.8]:\n",
    "        return 2\n",
    "    else:\n",
    "        return 1\n"
   ]
  },
  {
   "cell_type": "code",
   "execution_count": 66,
   "metadata": {},
   "outputs": [],
   "source": [
    "# for frequency & monetary - the higher value is better:\n",
    "def fm(x, c):\n",
    "    if x <= quantiles[c][.2]:\n",
    "        return 1\n",
    "    elif x <= quantiles[c][.4]:\n",
    "        return 2\n",
    "    elif x <= quantiles[c][.6]:\n",
    "        return 3\n",
    "    elif x <= quantiles[c][.8]:\n",
    "        return 4\n",
    "    else:\n",
    "        return 5 \n",
    "   "
   ]
  },
  {
   "cell_type": "code",
   "execution_count": 67,
   "metadata": {},
   "outputs": [],
   "source": [
    "rfmSeg = rfmTable\n",
    "rfmSeg['R_quantile'] = rfmTable['recency'].apply(lambda x: r(x))\n",
    "rfmSeg['F_quantile'] = rfmTable['frequency'].apply(lambda x: fm(x, 'frequency'))\n",
    "rfmSeg['M_quantile'] = rfmTable['monetary'].apply(lambda x: fm(x, 'monetary'))"
   ]
  },
  {
   "cell_type": "code",
   "execution_count": 68,
   "metadata": {},
   "outputs": [
    {
     "data": {
      "text/html": [
       "<div>\n",
       "<style scoped>\n",
       "    .dataframe tbody tr th:only-of-type {\n",
       "        vertical-align: middle;\n",
       "    }\n",
       "\n",
       "    .dataframe tbody tr th {\n",
       "        vertical-align: top;\n",
       "    }\n",
       "\n",
       "    .dataframe thead th {\n",
       "        text-align: right;\n",
       "    }\n",
       "</style>\n",
       "<table border=\"1\" class=\"dataframe\">\n",
       "  <thead>\n",
       "    <tr style=\"text-align: right;\">\n",
       "      <th></th>\n",
       "      <th>customer_unique_id</th>\n",
       "      <th>recency</th>\n",
       "      <th>frequency</th>\n",
       "      <th>monetary</th>\n",
       "      <th>R_quantile</th>\n",
       "      <th>F_quantile</th>\n",
       "      <th>M_quantile</th>\n",
       "    </tr>\n",
       "  </thead>\n",
       "  <tbody>\n",
       "    <tr>\n",
       "      <th>0</th>\n",
       "      <td>0000f46a3911fa3c0805444483337064</td>\n",
       "      <td>297</td>\n",
       "      <td>1</td>\n",
       "      <td>69.00</td>\n",
       "      <td>1</td>\n",
       "      <td>1</td>\n",
       "      <td>3</td>\n",
       "    </tr>\n",
       "    <tr>\n",
       "      <th>1</th>\n",
       "      <td>0000f6ccb0745a6a4b88665a16c9f078</td>\n",
       "      <td>81</td>\n",
       "      <td>1</td>\n",
       "      <td>25.99</td>\n",
       "      <td>4</td>\n",
       "      <td>1</td>\n",
       "      <td>1</td>\n",
       "    </tr>\n",
       "    <tr>\n",
       "      <th>2</th>\n",
       "      <td>0004aac84e0df4da2b147fca70cf8255</td>\n",
       "      <td>48</td>\n",
       "      <td>1</td>\n",
       "      <td>180.00</td>\n",
       "      <td>4</td>\n",
       "      <td>1</td>\n",
       "      <td>5</td>\n",
       "    </tr>\n",
       "    <tr>\n",
       "      <th>3</th>\n",
       "      <td>0005e1862207bf6ccc02e4228effd9a0</td>\n",
       "      <td>302</td>\n",
       "      <td>1</td>\n",
       "      <td>135.00</td>\n",
       "      <td>1</td>\n",
       "      <td>1</td>\n",
       "      <td>4</td>\n",
       "    </tr>\n",
       "    <tr>\n",
       "      <th>4</th>\n",
       "      <td>0006fdc98a402fceb4eb0ee528f6a8d4</td>\n",
       "      <td>167</td>\n",
       "      <td>1</td>\n",
       "      <td>13.90</td>\n",
       "      <td>2</td>\n",
       "      <td>1</td>\n",
       "      <td>1</td>\n",
       "    </tr>\n",
       "    <tr>\n",
       "      <th>...</th>\n",
       "      <td>...</td>\n",
       "      <td>...</td>\n",
       "      <td>...</td>\n",
       "      <td>...</td>\n",
       "      <td>...</td>\n",
       "      <td>...</td>\n",
       "      <td>...</td>\n",
       "    </tr>\n",
       "    <tr>\n",
       "      <th>43708</th>\n",
       "      <td>fffbf87b7a1a6fa8b03f081c5f51a201</td>\n",
       "      <td>5</td>\n",
       "      <td>1</td>\n",
       "      <td>149.00</td>\n",
       "      <td>5</td>\n",
       "      <td>1</td>\n",
       "      <td>4</td>\n",
       "    </tr>\n",
       "    <tr>\n",
       "      <th>43709</th>\n",
       "      <td>fffcf5a5ff07b0908bd4e2dbc735a684</td>\n",
       "      <td>207</td>\n",
       "      <td>1</td>\n",
       "      <td>1570.00</td>\n",
       "      <td>2</td>\n",
       "      <td>1</td>\n",
       "      <td>5</td>\n",
       "    </tr>\n",
       "    <tr>\n",
       "      <th>43710</th>\n",
       "      <td>fffea47cd6d3cc0a88bd621562a9d061</td>\n",
       "      <td>22</td>\n",
       "      <td>1</td>\n",
       "      <td>64.89</td>\n",
       "      <td>5</td>\n",
       "      <td>1</td>\n",
       "      <td>2</td>\n",
       "    </tr>\n",
       "    <tr>\n",
       "      <th>43711</th>\n",
       "      <td>ffff371b4d645b6ecea244b27531430a</td>\n",
       "      <td>328</td>\n",
       "      <td>1</td>\n",
       "      <td>89.90</td>\n",
       "      <td>1</td>\n",
       "      <td>1</td>\n",
       "      <td>3</td>\n",
       "    </tr>\n",
       "    <tr>\n",
       "      <th>43712</th>\n",
       "      <td>ffffd2657e2aad2907e67c3e9daecbeb</td>\n",
       "      <td>244</td>\n",
       "      <td>1</td>\n",
       "      <td>56.99</td>\n",
       "      <td>1</td>\n",
       "      <td>1</td>\n",
       "      <td>2</td>\n",
       "    </tr>\n",
       "  </tbody>\n",
       "</table>\n",
       "<p>43713 rows × 7 columns</p>\n",
       "</div>"
      ],
      "text/plain": [
       "                     customer_unique_id  recency  frequency  monetary  \\\n",
       "0      0000f46a3911fa3c0805444483337064      297          1     69.00   \n",
       "1      0000f6ccb0745a6a4b88665a16c9f078       81          1     25.99   \n",
       "2      0004aac84e0df4da2b147fca70cf8255       48          1    180.00   \n",
       "3      0005e1862207bf6ccc02e4228effd9a0      302          1    135.00   \n",
       "4      0006fdc98a402fceb4eb0ee528f6a8d4      167          1     13.90   \n",
       "...                                 ...      ...        ...       ...   \n",
       "43708  fffbf87b7a1a6fa8b03f081c5f51a201        5          1    149.00   \n",
       "43709  fffcf5a5ff07b0908bd4e2dbc735a684      207          1   1570.00   \n",
       "43710  fffea47cd6d3cc0a88bd621562a9d061       22          1     64.89   \n",
       "43711  ffff371b4d645b6ecea244b27531430a      328          1     89.90   \n",
       "43712  ffffd2657e2aad2907e67c3e9daecbeb      244          1     56.99   \n",
       "\n",
       "       R_quantile  F_quantile  M_quantile  \n",
       "0               1           1           3  \n",
       "1               4           1           1  \n",
       "2               4           1           5  \n",
       "3               1           1           4  \n",
       "4               2           1           1  \n",
       "...           ...         ...         ...  \n",
       "43708           5           1           4  \n",
       "43709           2           1           5  \n",
       "43710           5           1           2  \n",
       "43711           1           1           3  \n",
       "43712           1           1           2  \n",
       "\n",
       "[43713 rows x 7 columns]"
      ]
     },
     "execution_count": 68,
     "metadata": {},
     "output_type": "execute_result"
    }
   ],
   "source": [
    "rfmSeg"
   ]
  },
  {
   "cell_type": "markdown",
   "metadata": {},
   "source": [
    "Get a combination of indicators R_quantile M_quantile F_quantile (RFMClass)\n",
    "First you need to convert these values to string format"
   ]
  },
  {
   "cell_type": "code",
   "execution_count": 71,
   "metadata": {},
   "outputs": [],
   "source": [
    "rfmSeg['RFMClass'] = rfmSeg.R_quantile.map(str) \\\n",
    "                            + rfmSeg.F_quantile.map(str) \\\n",
    "                            + rfmSeg.M_quantile.map(str)"
   ]
  },
  {
   "cell_type": "code",
   "execution_count": 72,
   "metadata": {},
   "outputs": [
    {
     "data": {
      "text/html": [
       "<div>\n",
       "<style scoped>\n",
       "    .dataframe tbody tr th:only-of-type {\n",
       "        vertical-align: middle;\n",
       "    }\n",
       "\n",
       "    .dataframe tbody tr th {\n",
       "        vertical-align: top;\n",
       "    }\n",
       "\n",
       "    .dataframe thead th {\n",
       "        text-align: right;\n",
       "    }\n",
       "</style>\n",
       "<table border=\"1\" class=\"dataframe\">\n",
       "  <thead>\n",
       "    <tr style=\"text-align: right;\">\n",
       "      <th></th>\n",
       "      <th>customer_unique_id</th>\n",
       "      <th>recency</th>\n",
       "      <th>frequency</th>\n",
       "      <th>monetary</th>\n",
       "      <th>R_quantile</th>\n",
       "      <th>F_quantile</th>\n",
       "      <th>M_quantile</th>\n",
       "      <th>RFMClass</th>\n",
       "    </tr>\n",
       "  </thead>\n",
       "  <tbody>\n",
       "    <tr>\n",
       "      <th>40419</th>\n",
       "      <td>ec7f1811826ab04a27a92197bc40c888</td>\n",
       "      <td>13</td>\n",
       "      <td>4</td>\n",
       "      <td>487.89</td>\n",
       "      <td>5</td>\n",
       "      <td>3</td>\n",
       "      <td>5</td>\n",
       "      <td>535</td>\n",
       "    </tr>\n",
       "    <tr>\n",
       "      <th>37746</th>\n",
       "      <td>dc813062e0fc23409cd255f7f53c7074</td>\n",
       "      <td>37</td>\n",
       "      <td>5</td>\n",
       "      <td>612.86</td>\n",
       "      <td>5</td>\n",
       "      <td>3</td>\n",
       "      <td>5</td>\n",
       "      <td>535</td>\n",
       "    </tr>\n",
       "    <tr>\n",
       "      <th>12304</th>\n",
       "      <td>47c1a3033b8b77b3ab6e109eb4d5fdf3</td>\n",
       "      <td>35</td>\n",
       "      <td>5</td>\n",
       "      <td>784.60</td>\n",
       "      <td>5</td>\n",
       "      <td>3</td>\n",
       "      <td>5</td>\n",
       "      <td>535</td>\n",
       "    </tr>\n",
       "    <tr>\n",
       "      <th>17207</th>\n",
       "      <td>6469f99c1f9dfae7733b25662e7f1782</td>\n",
       "      <td>7</td>\n",
       "      <td>5</td>\n",
       "      <td>514.50</td>\n",
       "      <td>5</td>\n",
       "      <td>3</td>\n",
       "      <td>5</td>\n",
       "      <td>535</td>\n",
       "    </tr>\n",
       "    <tr>\n",
       "      <th>4697</th>\n",
       "      <td>1b6c7548a2a1f9037c1fd3ddfed95f33</td>\n",
       "      <td>12</td>\n",
       "      <td>5</td>\n",
       "      <td>487.22</td>\n",
       "      <td>5</td>\n",
       "      <td>3</td>\n",
       "      <td>5</td>\n",
       "      <td>535</td>\n",
       "    </tr>\n",
       "    <tr>\n",
       "      <th>...</th>\n",
       "      <td>...</td>\n",
       "      <td>...</td>\n",
       "      <td>...</td>\n",
       "      <td>...</td>\n",
       "      <td>...</td>\n",
       "      <td>...</td>\n",
       "      <td>...</td>\n",
       "      <td>...</td>\n",
       "    </tr>\n",
       "    <tr>\n",
       "      <th>27599</th>\n",
       "      <td>a1c61f8566347ec44ea37d22854634a1</td>\n",
       "      <td>288</td>\n",
       "      <td>1</td>\n",
       "      <td>19.90</td>\n",
       "      <td>1</td>\n",
       "      <td>1</td>\n",
       "      <td>1</td>\n",
       "      <td>111</td>\n",
       "    </tr>\n",
       "    <tr>\n",
       "      <th>27629</th>\n",
       "      <td>a1f24259f50aa458eac45c8db044550f</td>\n",
       "      <td>252</td>\n",
       "      <td>1</td>\n",
       "      <td>21.00</td>\n",
       "      <td>1</td>\n",
       "      <td>1</td>\n",
       "      <td>1</td>\n",
       "      <td>111</td>\n",
       "    </tr>\n",
       "    <tr>\n",
       "      <th>12840</th>\n",
       "      <td>4af923ab1facb0d2b0511746cffa138d</td>\n",
       "      <td>314</td>\n",
       "      <td>1</td>\n",
       "      <td>29.90</td>\n",
       "      <td>1</td>\n",
       "      <td>1</td>\n",
       "      <td>1</td>\n",
       "      <td>111</td>\n",
       "    </tr>\n",
       "    <tr>\n",
       "      <th>42041</th>\n",
       "      <td>f65c8b0c2fef64995e11d3620fec61fa</td>\n",
       "      <td>240</td>\n",
       "      <td>1</td>\n",
       "      <td>29.90</td>\n",
       "      <td>1</td>\n",
       "      <td>1</td>\n",
       "      <td>1</td>\n",
       "      <td>111</td>\n",
       "    </tr>\n",
       "    <tr>\n",
       "      <th>38707</th>\n",
       "      <td>e2339b9187e90ab591f7b72af7dfba7f</td>\n",
       "      <td>236</td>\n",
       "      <td>1</td>\n",
       "      <td>34.90</td>\n",
       "      <td>1</td>\n",
       "      <td>1</td>\n",
       "      <td>1</td>\n",
       "      <td>111</td>\n",
       "    </tr>\n",
       "  </tbody>\n",
       "</table>\n",
       "<p>43713 rows × 8 columns</p>\n",
       "</div>"
      ],
      "text/plain": [
       "                     customer_unique_id  recency  frequency  monetary  \\\n",
       "40419  ec7f1811826ab04a27a92197bc40c888       13          4    487.89   \n",
       "37746  dc813062e0fc23409cd255f7f53c7074       37          5    612.86   \n",
       "12304  47c1a3033b8b77b3ab6e109eb4d5fdf3       35          5    784.60   \n",
       "17207  6469f99c1f9dfae7733b25662e7f1782        7          5    514.50   \n",
       "4697   1b6c7548a2a1f9037c1fd3ddfed95f33       12          5    487.22   \n",
       "...                                 ...      ...        ...       ...   \n",
       "27599  a1c61f8566347ec44ea37d22854634a1      288          1     19.90   \n",
       "27629  a1f24259f50aa458eac45c8db044550f      252          1     21.00   \n",
       "12840  4af923ab1facb0d2b0511746cffa138d      314          1     29.90   \n",
       "42041  f65c8b0c2fef64995e11d3620fec61fa      240          1     29.90   \n",
       "38707  e2339b9187e90ab591f7b72af7dfba7f      236          1     34.90   \n",
       "\n",
       "       R_quantile  F_quantile  M_quantile RFMClass  \n",
       "40419           5           3           5      535  \n",
       "37746           5           3           5      535  \n",
       "12304           5           3           5      535  \n",
       "17207           5           3           5      535  \n",
       "4697            5           3           5      535  \n",
       "...           ...         ...         ...      ...  \n",
       "27599           1           1           1      111  \n",
       "27629           1           1           1      111  \n",
       "12840           1           1           1      111  \n",
       "42041           1           1           1      111  \n",
       "38707           1           1           1      111  \n",
       "\n",
       "[43713 rows x 8 columns]"
      ]
     },
     "execution_count": 72,
     "metadata": {},
     "output_type": "execute_result"
    }
   ],
   "source": [
    "rfmSeg.sort_values('RFMClass', ascending=[False])"
   ]
  },
  {
   "cell_type": "markdown",
   "metadata": {},
   "source": [
    "Sure the best customer is the customer with RMFClass 555 or at least 535- the customer who made a purchase not more than 38 days ago, (may be) he visits us not so often (because thre is no 4-5 values for frequency) and who pays more than 179.9. \n",
    "How many of them do we have?"
   ]
  },
  {
   "cell_type": "code",
   "execution_count": 291,
   "metadata": {},
   "outputs": [
    {
     "data": {
      "text/html": [
       "<div>\n",
       "<style scoped>\n",
       "    .dataframe tbody tr th:only-of-type {\n",
       "        vertical-align: middle;\n",
       "    }\n",
       "\n",
       "    .dataframe tbody tr th {\n",
       "        vertical-align: top;\n",
       "    }\n",
       "\n",
       "    .dataframe thead th {\n",
       "        text-align: right;\n",
       "    }\n",
       "</style>\n",
       "<table border=\"1\" class=\"dataframe\">\n",
       "  <thead>\n",
       "    <tr style=\"text-align: right;\">\n",
       "      <th></th>\n",
       "      <th>customer_unique_id</th>\n",
       "      <th>recency</th>\n",
       "      <th>frequency</th>\n",
       "      <th>monetary</th>\n",
       "      <th>R_quantile</th>\n",
       "      <th>F_quantile</th>\n",
       "      <th>M_quantile</th>\n",
       "      <th>RFMClass</th>\n",
       "    </tr>\n",
       "  </thead>\n",
       "  <tbody>\n",
       "    <tr>\n",
       "      <th>4697</th>\n",
       "      <td>1b6c7548a2a1f9037c1fd3ddfed95f33</td>\n",
       "      <td>12</td>\n",
       "      <td>5</td>\n",
       "      <td>487.22</td>\n",
       "      <td>5</td>\n",
       "      <td>3</td>\n",
       "      <td>5</td>\n",
       "      <td>535</td>\n",
       "    </tr>\n",
       "    <tr>\n",
       "      <th>10660</th>\n",
       "      <td>3e43e6105506432c953e165fb2acf44c</td>\n",
       "      <td>31</td>\n",
       "      <td>4</td>\n",
       "      <td>551.97</td>\n",
       "      <td>5</td>\n",
       "      <td>3</td>\n",
       "      <td>5</td>\n",
       "      <td>535</td>\n",
       "    </tr>\n",
       "    <tr>\n",
       "      <th>12304</th>\n",
       "      <td>47c1a3033b8b77b3ab6e109eb4d5fdf3</td>\n",
       "      <td>35</td>\n",
       "      <td>5</td>\n",
       "      <td>784.60</td>\n",
       "      <td>5</td>\n",
       "      <td>3</td>\n",
       "      <td>5</td>\n",
       "      <td>535</td>\n",
       "    </tr>\n",
       "    <tr>\n",
       "      <th>17207</th>\n",
       "      <td>6469f99c1f9dfae7733b25662e7f1782</td>\n",
       "      <td>7</td>\n",
       "      <td>5</td>\n",
       "      <td>514.50</td>\n",
       "      <td>5</td>\n",
       "      <td>3</td>\n",
       "      <td>5</td>\n",
       "      <td>535</td>\n",
       "    </tr>\n",
       "    <tr>\n",
       "      <th>37746</th>\n",
       "      <td>dc813062e0fc23409cd255f7f53c7074</td>\n",
       "      <td>37</td>\n",
       "      <td>5</td>\n",
       "      <td>612.86</td>\n",
       "      <td>5</td>\n",
       "      <td>3</td>\n",
       "      <td>5</td>\n",
       "      <td>535</td>\n",
       "    </tr>\n",
       "    <tr>\n",
       "      <th>40419</th>\n",
       "      <td>ec7f1811826ab04a27a92197bc40c888</td>\n",
       "      <td>13</td>\n",
       "      <td>4</td>\n",
       "      <td>487.89</td>\n",
       "      <td>5</td>\n",
       "      <td>3</td>\n",
       "      <td>5</td>\n",
       "      <td>535</td>\n",
       "    </tr>\n",
       "  </tbody>\n",
       "</table>\n",
       "</div>"
      ],
      "text/plain": [
       "                     customer_unique_id  recency  frequency  monetary  \\\n",
       "4697   1b6c7548a2a1f9037c1fd3ddfed95f33       12          5    487.22   \n",
       "10660  3e43e6105506432c953e165fb2acf44c       31          4    551.97   \n",
       "12304  47c1a3033b8b77b3ab6e109eb4d5fdf3       35          5    784.60   \n",
       "17207  6469f99c1f9dfae7733b25662e7f1782        7          5    514.50   \n",
       "37746  dc813062e0fc23409cd255f7f53c7074       37          5    612.86   \n",
       "40419  ec7f1811826ab04a27a92197bc40c888       13          4    487.89   \n",
       "\n",
       "       R_quantile  F_quantile  M_quantile RFMClass  \n",
       "4697            5           3           5      535  \n",
       "10660           5           3           5      535  \n",
       "12304           5           3           5      535  \n",
       "17207           5           3           5      535  \n",
       "37746           5           3           5      535  \n",
       "40419           5           3           5      535  "
      ]
     },
     "execution_count": 291,
     "metadata": {},
     "output_type": "execute_result"
    }
   ],
   "source": [
    "rfmSeg.query('RFMClass == \"535\"')"
   ]
  }
 ],
 "metadata": {
  "kernelspec": {
   "display_name": "Python 3",
   "language": "python",
   "name": "python3"
  },
  "language_info": {
   "codemirror_mode": {
    "name": "ipython",
    "version": 3
   },
   "file_extension": ".py",
   "mimetype": "text/x-python",
   "name": "python",
   "nbconvert_exporter": "python",
   "pygments_lexer": "ipython3",
   "version": "3.8.3"
  }
 },
 "nbformat": 4,
 "nbformat_minor": 4
}
